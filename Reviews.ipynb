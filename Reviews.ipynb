{
  "nbformat": 4,
  "nbformat_minor": 0,
  "metadata": {
    "colab": {
      "name": "Reviews.ipynb",
      "provenance": [],
      "collapsed_sections": []
    },
    "kernelspec": {
      "display_name": "Python 3",
      "name": "python3"
    },
    "language_info": {
      "name": "python"
    }
  },
  "cells": [
    {
      "cell_type": "markdown",
      "metadata": {
        "id": "3AdQrZz_SQyc"
      },
      "source": [
        "# Installation of packages and imports"
      ]
    },
    {
      "cell_type": "code",
      "metadata": {
        "id": "DMjoOJNaSTWq"
      },
      "source": [
        "!pip install googletrans==3.1.0a0\n",
        "!pip install haversine\n",
        "!pip install pyLDAvis              # <- You will need to RESTART the runtime !!!"
      ],
      "execution_count": null,
      "outputs": []
    },
    {
      "cell_type": "markdown",
      "metadata": {
        "id": "eqgoo5vRm5TM"
      },
      "source": [
        "$\\uparrow$ **RECORDA QUE HAS DE REINICIAR EL RUNTIME!!!!**"
      ]
    },
    {
      "cell_type": "code",
      "metadata": {
        "colab": {
          "base_uri": "https://localhost:8080/"
        },
        "id": "i46tMvZLqW5X",
        "outputId": "a7ee050f-074d-44d6-cb75-d0f2e53ebcbc"
      },
      "source": [
        "# For general purpose\n",
        "import json\n",
        "import pickle\n",
        "import os\n",
        "\n",
        "\n",
        "# For NLP\n",
        "import nltk\n",
        "import gensim\n",
        "import numpy as np\n",
        "import matplotlib.pyplot as plt\n",
        "from nltk.stem import WordNetLemmatizer, SnowballStemmer\n",
        "\n",
        "# For LDA visualization\n",
        "import pyLDAvis.gensim_models\n",
        "import pyLDAvis\n",
        "\n",
        "# For Google Translator\n",
        "from googletrans import Translator\n",
        "\n",
        "\n",
        "# For f(u,r) \n",
        "from scipy.stats import norm\n",
        "from haversine import haversine\n"
      ],
      "execution_count": null,
      "outputs": [
        {
          "output_type": "stream",
          "name": "stderr",
          "text": [
            "/usr/local/lib/python3.7/dist-packages/past/types/oldstr.py:5: DeprecationWarning: Using or importing the ABCs from 'collections' instead of from 'collections.abc' is deprecated since Python 3.3,and in 3.9 it will stop working\n",
            "  from collections import Iterable\n",
            "/usr/local/lib/python3.7/dist-packages/sklearn/decomposition/_lda.py:29: DeprecationWarning: `np.float` is a deprecated alias for the builtin `float`. To silence this warning, use `float` by itself. Doing this will not modify any behavior and is safe. If you specifically wanted the numpy scalar type, use `np.float64` here.\n",
            "Deprecated in NumPy 1.20; for more details and guidance: https://numpy.org/devdocs/release/1.20.0-notes.html#deprecations\n",
            "  EPS = np.finfo(np.float).eps\n"
          ]
        }
      ]
    },
    {
      "cell_type": "markdown",
      "metadata": {
        "id": "Nruc0NEtUeRi"
      },
      "source": [
        "# Read restaurant data"
      ]
    },
    {
      "cell_type": "code",
      "metadata": {
        "colab": {
          "base_uri": "https://localhost:8080/"
        },
        "id": "w2u-3Op02e4T",
        "outputId": "8db49e34-2b6a-4569-f6be-5a88222c76d4"
      },
      "source": [
        "test_f = open(\"test_reviews.json\")\n",
        "train_f = open(\"train_reviews.json\")\n",
        "test = json.load(test_f)\n",
        "train = json.load(train_f)\n",
        "data = test + train\n",
        "print(data[0]['reviews_data'][0])"
      ],
      "execution_count": null,
      "outputs": [
        {
          "output_type": "stream",
          "name": "stdout",
          "text": [
            "{'user': {'name': 'C. K.', 'link': 'https://www.google.com/maps/contrib/103276150229350690836?hl=en-US&sa=X&ved=2ahUKEwi6jrid-_7zAhX2gGoFHb6TAGEQvvQBegQIARAw', 'thumbnail': 'https://lh3.googleusercontent.com/a-/AOh14Gg9wpEUjooVmGMGkYoMW9N4kHrTxlMPSXOQrDMS=s40-c-c0x00000000-cc-rp-mo-ba5-br100', 'local_guide': True, 'reviews': 274, 'photos': 1238}, 'rating': 4.0, 'date': 'a month ago', 'snippet': 'Overall, not a bad experience. Menu was standard HRC. Chose the nachos and cheesecake. Both were good and filling. Customer Service was awesome. Had a nice meal without any drama.', 'images': ['https://lh5.googleusercontent.com/p/AF1QipOy6FXV_xMmCD7MR2GJuiCN_-OpSD7fRiBpZK02=w100-h100-p-n-k-no', 'https://lh5.googleusercontent.com/p/AF1QipO4c1A7epvhbkcHWo7i1MhAHAFhsXiRDfQWKvkm=w100-h100-p-n-k-no'], 'response': {'date': 'a month ago', 'snippet': 'Hello C.K. Thank you so much for your great score, we really appreciate it.For us, customer satisfaction is our top priority and all the teamwork hard to offer the best possible experience when visiting us. Thank you once again for the time to share your visit with us, and hope to see you back very soon.'}}\n"
          ]
        }
      ]
    },
    {
      "cell_type": "code",
      "metadata": {
        "colab": {
          "base_uri": "https://localhost:8080/"
        },
        "id": "jAc-HmU0aTpc",
        "outputId": "45af7ce4-e5df-48a8-a430-3e544e282d20"
      },
      "source": [
        "len(data)"
      ],
      "execution_count": null,
      "outputs": [
        {
          "output_type": "execute_result",
          "data": {
            "text/plain": [
              "300"
            ]
          },
          "metadata": {},
          "execution_count": 6
        }
      ]
    },
    {
      "cell_type": "markdown",
      "metadata": {
        "id": "q9tCv3ux3tKZ"
      },
      "source": [
        "- Stemming, lemmatizing\n",
        "- Stopword removing\n",
        "- Lowercase and remove punctuation"
      ]
    },
    {
      "cell_type": "code",
      "metadata": {
        "colab": {
          "base_uri": "https://localhost:8080/"
        },
        "id": "Tk9zEunv2-Ro",
        "outputId": "5541cab3-8e13-46e0-f25b-f14540d96385"
      },
      "source": [
        "nltk.download('wordnet')\n",
        "\n",
        "stemmer = SnowballStemmer(\"english\")\n",
        "\n",
        "def lemmatize_stemming(text):\n",
        "    return WordNetLemmatizer().lemmatize(text, pos='v')\n",
        "    #return stemmer.stem(WordNetLemmatizer().lemmatize(text))\n",
        "\n",
        "# Tokenize and lemmatize\n",
        "def preprocess(text):\n",
        "    result=[]\n",
        "    for token in gensim.utils.simple_preprocess(text):\n",
        "        if token not in gensim.parsing.preprocessing.STOPWORDS and len(token) > 3:\n",
        "            result.append(lemmatize_stemming(token))\n",
        "    return result"
      ],
      "execution_count": null,
      "outputs": [
        {
          "output_type": "stream",
          "name": "stdout",
          "text": [
            "[nltk_data] Downloading package wordnet to /root/nltk_data...\n",
            "[nltk_data]   Unzipping corpora/wordnet.zip.\n"
          ]
        }
      ]
    },
    {
      "cell_type": "markdown",
      "metadata": {
        "id": "kZoMd5w94IyX"
      },
      "source": [
        "Example with one review:"
      ]
    },
    {
      "cell_type": "code",
      "metadata": {
        "colab": {
          "base_uri": "https://localhost:8080/"
        },
        "id": "nFN3mwa83-LR",
        "outputId": "87c27ad1-0f65-454e-ad42-ffd4d594c24e"
      },
      "source": [
        "review = data[0]['reviews_data'][0]['snippet']\n",
        "words = []\n",
        "for word in review.split(' '):\n",
        "    words.append(word)\n",
        "print('Review:')\n",
        "print(words)\n",
        "print('After preprocess:')\n",
        "print(preprocess(review))"
      ],
      "execution_count": null,
      "outputs": [
        {
          "output_type": "stream",
          "name": "stdout",
          "text": [
            "Review:\n",
            "['Overall,', 'not', 'a', 'bad', 'experience.', 'Menu', 'was', 'standard', 'HRC.', 'Chose', 'the', 'nachos', 'and', 'cheesecake.', 'Both', 'were', 'good', 'and', 'filling.', 'Customer', 'Service', 'was', 'awesome.', 'Had', 'a', 'nice', 'meal', 'without', 'any', 'drama.']\n",
            "After preprocess:\n",
            "['overall', 'experience', 'menu', 'standard', 'choose', 'nachos', 'cheesecake', 'good', 'fill', 'customer', 'service', 'awesome', 'nice', 'meal', 'drama']\n"
          ]
        }
      ]
    },
    {
      "cell_type": "markdown",
      "metadata": {
        "id": "cjzvgxhJUjIH"
      },
      "source": [
        "Translate"
      ]
    },
    {
      "cell_type": "code",
      "metadata": {
        "colab": {
          "base_uri": "https://localhost:8080/",
          "height": 361
        },
        "id": "-RVkkJMvsROP",
        "outputId": "b7ea1eae-a09a-4233-ec10-3a154442bcd1"
      },
      "source": [
        "translator = Translator()\n",
        "\n",
        "comments = \"\"\n",
        "for restaurant in data:\n",
        "  for review in restaurant['reviews_data']:\n",
        "    comments += review['snippet'] + '\\n'\n",
        "\n",
        "tr = translator.translate(comments)"
      ],
      "execution_count": null,
      "outputs": [
        {
          "output_type": "error",
          "ename": "KeyboardInterrupt",
          "evalue": "ignored",
          "traceback": [
            "\u001b[0;31m---------------------------------------------------------------------------\u001b[0m",
            "\u001b[0;31mKeyboardInterrupt\u001b[0m                         Traceback (most recent call last)",
            "\u001b[0;32m<ipython-input-65-4e539300aea6>\u001b[0m in \u001b[0;36m<module>\u001b[0;34m()\u001b[0m\n\u001b[1;32m      6\u001b[0m     \u001b[0mcomments\u001b[0m \u001b[0;34m+=\u001b[0m \u001b[0mreview\u001b[0m\u001b[0;34m[\u001b[0m\u001b[0;34m'snippet'\u001b[0m\u001b[0;34m]\u001b[0m \u001b[0;34m+\u001b[0m \u001b[0;34m'\\n'\u001b[0m\u001b[0;34m\u001b[0m\u001b[0;34m\u001b[0m\u001b[0m\n\u001b[1;32m      7\u001b[0m \u001b[0;34m\u001b[0m\u001b[0m\n\u001b[0;32m----> 8\u001b[0;31m \u001b[0mtr\u001b[0m \u001b[0;34m=\u001b[0m \u001b[0mtranslator\u001b[0m\u001b[0;34m.\u001b[0m\u001b[0mtranslate\u001b[0m\u001b[0;34m(\u001b[0m\u001b[0mcomments\u001b[0m\u001b[0;34m)\u001b[0m\u001b[0;34m\u001b[0m\u001b[0;34m\u001b[0m\u001b[0m\n\u001b[0m",
            "\u001b[0;32m/usr/local/lib/python3.7/dist-packages/googletrans/client.py\u001b[0m in \u001b[0;36mtranslate\u001b[0;34m(self, text, dest, src, **kwargs)\u001b[0m\n\u001b[1;32m    208\u001b[0m \u001b[0;34m\u001b[0m\u001b[0m\n\u001b[1;32m    209\u001b[0m         \u001b[0morigin\u001b[0m \u001b[0;34m=\u001b[0m \u001b[0mtext\u001b[0m\u001b[0;34m\u001b[0m\u001b[0;34m\u001b[0m\u001b[0m\n\u001b[0;32m--> 210\u001b[0;31m         \u001b[0mdata\u001b[0m\u001b[0;34m,\u001b[0m \u001b[0mresponse\u001b[0m \u001b[0;34m=\u001b[0m \u001b[0mself\u001b[0m\u001b[0;34m.\u001b[0m\u001b[0m_translate\u001b[0m\u001b[0;34m(\u001b[0m\u001b[0mtext\u001b[0m\u001b[0;34m,\u001b[0m \u001b[0mdest\u001b[0m\u001b[0;34m,\u001b[0m \u001b[0msrc\u001b[0m\u001b[0;34m,\u001b[0m \u001b[0mkwargs\u001b[0m\u001b[0;34m)\u001b[0m\u001b[0;34m\u001b[0m\u001b[0;34m\u001b[0m\u001b[0m\n\u001b[0m\u001b[1;32m    211\u001b[0m \u001b[0;34m\u001b[0m\u001b[0m\n\u001b[1;32m    212\u001b[0m         \u001b[0;31m# this code will be updated when the format is changed.\u001b[0m\u001b[0;34m\u001b[0m\u001b[0;34m\u001b[0m\u001b[0;34m\u001b[0m\u001b[0m\n",
            "\u001b[0;32m/usr/local/lib/python3.7/dist-packages/googletrans/client.py\u001b[0m in \u001b[0;36m_translate\u001b[0;34m(self, text, dest, src, override)\u001b[0m\n\u001b[1;32m    106\u001b[0m \u001b[0;34m\u001b[0m\u001b[0m\n\u001b[1;32m    107\u001b[0m         \u001b[0murl\u001b[0m \u001b[0;34m=\u001b[0m \u001b[0murls\u001b[0m\u001b[0;34m.\u001b[0m\u001b[0mTRANSLATE\u001b[0m\u001b[0;34m.\u001b[0m\u001b[0mformat\u001b[0m\u001b[0;34m(\u001b[0m\u001b[0mhost\u001b[0m\u001b[0;34m=\u001b[0m\u001b[0mself\u001b[0m\u001b[0;34m.\u001b[0m\u001b[0m_pick_service_url\u001b[0m\u001b[0;34m(\u001b[0m\u001b[0;34m)\u001b[0m\u001b[0;34m)\u001b[0m\u001b[0;34m\u001b[0m\u001b[0;34m\u001b[0m\u001b[0m\n\u001b[0;32m--> 108\u001b[0;31m         \u001b[0mr\u001b[0m \u001b[0;34m=\u001b[0m \u001b[0mself\u001b[0m\u001b[0;34m.\u001b[0m\u001b[0mclient\u001b[0m\u001b[0;34m.\u001b[0m\u001b[0mget\u001b[0m\u001b[0;34m(\u001b[0m\u001b[0murl\u001b[0m\u001b[0;34m,\u001b[0m \u001b[0mparams\u001b[0m\u001b[0;34m=\u001b[0m\u001b[0mparams\u001b[0m\u001b[0;34m)\u001b[0m\u001b[0;34m\u001b[0m\u001b[0;34m\u001b[0m\u001b[0m\n\u001b[0m\u001b[1;32m    109\u001b[0m \u001b[0;34m\u001b[0m\u001b[0m\n\u001b[1;32m    110\u001b[0m         \u001b[0;32mif\u001b[0m \u001b[0mr\u001b[0m\u001b[0;34m.\u001b[0m\u001b[0mstatus_code\u001b[0m \u001b[0;34m==\u001b[0m \u001b[0;36m200\u001b[0m\u001b[0;34m:\u001b[0m\u001b[0;34m\u001b[0m\u001b[0;34m\u001b[0m\u001b[0m\n",
            "\u001b[0;32m/usr/local/lib/python3.7/dist-packages/httpx/_client.py\u001b[0m in \u001b[0;36mget\u001b[0;34m(self, url, params, headers, cookies, auth, allow_redirects, timeout)\u001b[0m\n\u001b[1;32m    761\u001b[0m             \u001b[0mauth\u001b[0m\u001b[0;34m=\u001b[0m\u001b[0mauth\u001b[0m\u001b[0;34m,\u001b[0m\u001b[0;34m\u001b[0m\u001b[0;34m\u001b[0m\u001b[0m\n\u001b[1;32m    762\u001b[0m             \u001b[0mallow_redirects\u001b[0m\u001b[0;34m=\u001b[0m\u001b[0mallow_redirects\u001b[0m\u001b[0;34m,\u001b[0m\u001b[0;34m\u001b[0m\u001b[0;34m\u001b[0m\u001b[0m\n\u001b[0;32m--> 763\u001b[0;31m             \u001b[0mtimeout\u001b[0m\u001b[0;34m=\u001b[0m\u001b[0mtimeout\u001b[0m\u001b[0;34m,\u001b[0m\u001b[0;34m\u001b[0m\u001b[0;34m\u001b[0m\u001b[0m\n\u001b[0m\u001b[1;32m    764\u001b[0m         )\n\u001b[1;32m    765\u001b[0m \u001b[0;34m\u001b[0m\u001b[0m\n",
            "\u001b[0;32m/usr/local/lib/python3.7/dist-packages/httpx/_client.py\u001b[0m in \u001b[0;36mrequest\u001b[0;34m(self, method, url, data, files, json, params, headers, cookies, auth, allow_redirects, timeout)\u001b[0m\n\u001b[1;32m    599\u001b[0m         )\n\u001b[1;32m    600\u001b[0m         return self.send(\n\u001b[0;32m--> 601\u001b[0;31m             \u001b[0mrequest\u001b[0m\u001b[0;34m,\u001b[0m \u001b[0mauth\u001b[0m\u001b[0;34m=\u001b[0m\u001b[0mauth\u001b[0m\u001b[0;34m,\u001b[0m \u001b[0mallow_redirects\u001b[0m\u001b[0;34m=\u001b[0m\u001b[0mallow_redirects\u001b[0m\u001b[0;34m,\u001b[0m \u001b[0mtimeout\u001b[0m\u001b[0;34m=\u001b[0m\u001b[0mtimeout\u001b[0m\u001b[0;34m,\u001b[0m\u001b[0;34m\u001b[0m\u001b[0;34m\u001b[0m\u001b[0m\n\u001b[0m\u001b[1;32m    602\u001b[0m         )\n\u001b[1;32m    603\u001b[0m \u001b[0;34m\u001b[0m\u001b[0m\n",
            "\u001b[0;32m/usr/local/lib/python3.7/dist-packages/httpx/_client.py\u001b[0m in \u001b[0;36msend\u001b[0;34m(self, request, stream, auth, allow_redirects, timeout)\u001b[0m\n\u001b[1;32m    619\u001b[0m \u001b[0;34m\u001b[0m\u001b[0m\n\u001b[1;32m    620\u001b[0m         response = self.send_handling_redirects(\n\u001b[0;32m--> 621\u001b[0;31m             \u001b[0mrequest\u001b[0m\u001b[0;34m,\u001b[0m \u001b[0mauth\u001b[0m\u001b[0;34m=\u001b[0m\u001b[0mauth\u001b[0m\u001b[0;34m,\u001b[0m \u001b[0mtimeout\u001b[0m\u001b[0;34m=\u001b[0m\u001b[0mtimeout\u001b[0m\u001b[0;34m,\u001b[0m \u001b[0mallow_redirects\u001b[0m\u001b[0;34m=\u001b[0m\u001b[0mallow_redirects\u001b[0m\u001b[0;34m,\u001b[0m\u001b[0;34m\u001b[0m\u001b[0;34m\u001b[0m\u001b[0m\n\u001b[0m\u001b[1;32m    622\u001b[0m         )\n\u001b[1;32m    623\u001b[0m \u001b[0;34m\u001b[0m\u001b[0m\n",
            "\u001b[0;32m/usr/local/lib/python3.7/dist-packages/httpx/_client.py\u001b[0m in \u001b[0;36msend_handling_redirects\u001b[0;34m(self, request, auth, timeout, allow_redirects, history)\u001b[0m\n\u001b[1;32m    646\u001b[0m \u001b[0;34m\u001b[0m\u001b[0m\n\u001b[1;32m    647\u001b[0m             response = self.send_handling_auth(\n\u001b[0;32m--> 648\u001b[0;31m                 \u001b[0mrequest\u001b[0m\u001b[0;34m,\u001b[0m \u001b[0mauth\u001b[0m\u001b[0;34m=\u001b[0m\u001b[0mauth\u001b[0m\u001b[0;34m,\u001b[0m \u001b[0mtimeout\u001b[0m\u001b[0;34m=\u001b[0m\u001b[0mtimeout\u001b[0m\u001b[0;34m,\u001b[0m \u001b[0mhistory\u001b[0m\u001b[0;34m=\u001b[0m\u001b[0mhistory\u001b[0m\u001b[0;34m\u001b[0m\u001b[0;34m\u001b[0m\u001b[0m\n\u001b[0m\u001b[1;32m    649\u001b[0m             )\n\u001b[1;32m    650\u001b[0m             \u001b[0mresponse\u001b[0m\u001b[0;34m.\u001b[0m\u001b[0mhistory\u001b[0m \u001b[0;34m=\u001b[0m \u001b[0mlist\u001b[0m\u001b[0;34m(\u001b[0m\u001b[0mhistory\u001b[0m\u001b[0;34m)\u001b[0m\u001b[0;34m\u001b[0m\u001b[0;34m\u001b[0m\u001b[0m\n",
            "\u001b[0;32m/usr/local/lib/python3.7/dist-packages/httpx/_client.py\u001b[0m in \u001b[0;36msend_handling_auth\u001b[0;34m(self, request, history, auth, timeout)\u001b[0m\n\u001b[1;32m    682\u001b[0m         \u001b[0mrequest\u001b[0m \u001b[0;34m=\u001b[0m \u001b[0mnext\u001b[0m\u001b[0;34m(\u001b[0m\u001b[0mauth_flow\u001b[0m\u001b[0;34m)\u001b[0m\u001b[0;34m\u001b[0m\u001b[0;34m\u001b[0m\u001b[0m\n\u001b[1;32m    683\u001b[0m         \u001b[0;32mwhile\u001b[0m \u001b[0;32mTrue\u001b[0m\u001b[0;34m:\u001b[0m\u001b[0;34m\u001b[0m\u001b[0;34m\u001b[0m\u001b[0m\n\u001b[0;32m--> 684\u001b[0;31m             \u001b[0mresponse\u001b[0m \u001b[0;34m=\u001b[0m \u001b[0mself\u001b[0m\u001b[0;34m.\u001b[0m\u001b[0msend_single_request\u001b[0m\u001b[0;34m(\u001b[0m\u001b[0mrequest\u001b[0m\u001b[0;34m,\u001b[0m \u001b[0mtimeout\u001b[0m\u001b[0;34m)\u001b[0m\u001b[0;34m\u001b[0m\u001b[0;34m\u001b[0m\u001b[0m\n\u001b[0m\u001b[1;32m    685\u001b[0m             \u001b[0;32mif\u001b[0m \u001b[0mauth\u001b[0m\u001b[0;34m.\u001b[0m\u001b[0mrequires_response_body\u001b[0m\u001b[0;34m:\u001b[0m\u001b[0;34m\u001b[0m\u001b[0;34m\u001b[0m\u001b[0m\n\u001b[1;32m    686\u001b[0m                 \u001b[0mresponse\u001b[0m\u001b[0;34m.\u001b[0m\u001b[0mread\u001b[0m\u001b[0;34m(\u001b[0m\u001b[0;34m)\u001b[0m\u001b[0;34m\u001b[0m\u001b[0;34m\u001b[0m\u001b[0m\n",
            "\u001b[0;32m/usr/local/lib/python3.7/dist-packages/httpx/_client.py\u001b[0m in \u001b[0;36msend_single_request\u001b[0;34m(self, request, timeout)\u001b[0m\n\u001b[1;32m    717\u001b[0m                 \u001b[0mheaders\u001b[0m\u001b[0;34m=\u001b[0m\u001b[0mrequest\u001b[0m\u001b[0;34m.\u001b[0m\u001b[0mheaders\u001b[0m\u001b[0;34m.\u001b[0m\u001b[0mraw\u001b[0m\u001b[0;34m,\u001b[0m\u001b[0;34m\u001b[0m\u001b[0;34m\u001b[0m\u001b[0m\n\u001b[1;32m    718\u001b[0m                 \u001b[0mstream\u001b[0m\u001b[0;34m=\u001b[0m\u001b[0mrequest\u001b[0m\u001b[0;34m.\u001b[0m\u001b[0mstream\u001b[0m\u001b[0;34m,\u001b[0m\u001b[0;34m\u001b[0m\u001b[0;34m\u001b[0m\u001b[0m\n\u001b[0;32m--> 719\u001b[0;31m                 \u001b[0mtimeout\u001b[0m\u001b[0;34m=\u001b[0m\u001b[0mtimeout\u001b[0m\u001b[0;34m.\u001b[0m\u001b[0mas_dict\u001b[0m\u001b[0;34m(\u001b[0m\u001b[0;34m)\u001b[0m\u001b[0;34m,\u001b[0m\u001b[0;34m\u001b[0m\u001b[0;34m\u001b[0m\u001b[0m\n\u001b[0m\u001b[1;32m    720\u001b[0m             )\n\u001b[1;32m    721\u001b[0m         \u001b[0;32mexcept\u001b[0m \u001b[0mHTTPError\u001b[0m \u001b[0;32mas\u001b[0m \u001b[0mexc\u001b[0m\u001b[0;34m:\u001b[0m\u001b[0;34m\u001b[0m\u001b[0;34m\u001b[0m\u001b[0m\n",
            "\u001b[0;32m/usr/local/lib/python3.7/dist-packages/httpcore/_sync/connection_pool.py\u001b[0m in \u001b[0;36mrequest\u001b[0;34m(self, method, url, headers, stream, timeout)\u001b[0m\n\u001b[1;32m    151\u001b[0m             \u001b[0;32mtry\u001b[0m\u001b[0;34m:\u001b[0m\u001b[0;34m\u001b[0m\u001b[0;34m\u001b[0m\u001b[0m\n\u001b[1;32m    152\u001b[0m                 response = connection.request(\n\u001b[0;32m--> 153\u001b[0;31m                     \u001b[0mmethod\u001b[0m\u001b[0;34m,\u001b[0m \u001b[0murl\u001b[0m\u001b[0;34m,\u001b[0m \u001b[0mheaders\u001b[0m\u001b[0;34m=\u001b[0m\u001b[0mheaders\u001b[0m\u001b[0;34m,\u001b[0m \u001b[0mstream\u001b[0m\u001b[0;34m=\u001b[0m\u001b[0mstream\u001b[0m\u001b[0;34m,\u001b[0m \u001b[0mtimeout\u001b[0m\u001b[0;34m=\u001b[0m\u001b[0mtimeout\u001b[0m\u001b[0;34m\u001b[0m\u001b[0;34m\u001b[0m\u001b[0m\n\u001b[0m\u001b[1;32m    154\u001b[0m                 )\n\u001b[1;32m    155\u001b[0m             \u001b[0;32mexcept\u001b[0m \u001b[0mNewConnectionRequired\u001b[0m\u001b[0;34m:\u001b[0m\u001b[0;34m\u001b[0m\u001b[0;34m\u001b[0m\u001b[0m\n",
            "\u001b[0;32m/usr/local/lib/python3.7/dist-packages/httpcore/_sync/connection.py\u001b[0m in \u001b[0;36mrequest\u001b[0;34m(self, method, url, headers, stream, timeout)\u001b[0m\n\u001b[1;32m     76\u001b[0m             \u001b[0;34m\"connection.request method=%r url=%r headers=%r\"\u001b[0m\u001b[0;34m,\u001b[0m \u001b[0mmethod\u001b[0m\u001b[0;34m,\u001b[0m \u001b[0murl\u001b[0m\u001b[0;34m,\u001b[0m \u001b[0mheaders\u001b[0m\u001b[0;34m\u001b[0m\u001b[0;34m\u001b[0m\u001b[0m\n\u001b[1;32m     77\u001b[0m         )\n\u001b[0;32m---> 78\u001b[0;31m         \u001b[0;32mreturn\u001b[0m \u001b[0mself\u001b[0m\u001b[0;34m.\u001b[0m\u001b[0mconnection\u001b[0m\u001b[0;34m.\u001b[0m\u001b[0mrequest\u001b[0m\u001b[0;34m(\u001b[0m\u001b[0mmethod\u001b[0m\u001b[0;34m,\u001b[0m \u001b[0murl\u001b[0m\u001b[0;34m,\u001b[0m \u001b[0mheaders\u001b[0m\u001b[0;34m,\u001b[0m \u001b[0mstream\u001b[0m\u001b[0;34m,\u001b[0m \u001b[0mtimeout\u001b[0m\u001b[0;34m)\u001b[0m\u001b[0;34m\u001b[0m\u001b[0;34m\u001b[0m\u001b[0m\n\u001b[0m\u001b[1;32m     79\u001b[0m \u001b[0;34m\u001b[0m\u001b[0m\n\u001b[1;32m     80\u001b[0m     \u001b[0;32mdef\u001b[0m \u001b[0m_open_socket\u001b[0m\u001b[0;34m(\u001b[0m\u001b[0mself\u001b[0m\u001b[0;34m,\u001b[0m \u001b[0mtimeout\u001b[0m\u001b[0;34m:\u001b[0m \u001b[0mTimeoutDict\u001b[0m \u001b[0;34m=\u001b[0m \u001b[0;32mNone\u001b[0m\u001b[0;34m)\u001b[0m \u001b[0;34m->\u001b[0m \u001b[0mSyncSocketStream\u001b[0m\u001b[0;34m:\u001b[0m\u001b[0;34m\u001b[0m\u001b[0;34m\u001b[0m\u001b[0m\n",
            "\u001b[0;32m/usr/local/lib/python3.7/dist-packages/httpcore/_sync/http2.py\u001b[0m in \u001b[0;36mrequest\u001b[0;34m(self, method, url, headers, stream, timeout)\u001b[0m\n\u001b[1;32m    116\u001b[0m             \u001b[0mself\u001b[0m\u001b[0;34m.\u001b[0m\u001b[0mstreams\u001b[0m\u001b[0;34m[\u001b[0m\u001b[0mstream_id\u001b[0m\u001b[0;34m]\u001b[0m \u001b[0;34m=\u001b[0m \u001b[0mh2_stream\u001b[0m\u001b[0;34m\u001b[0m\u001b[0;34m\u001b[0m\u001b[0m\n\u001b[1;32m    117\u001b[0m             \u001b[0mself\u001b[0m\u001b[0;34m.\u001b[0m\u001b[0mevents\u001b[0m\u001b[0;34m[\u001b[0m\u001b[0mstream_id\u001b[0m\u001b[0;34m]\u001b[0m \u001b[0;34m=\u001b[0m \u001b[0;34m[\u001b[0m\u001b[0;34m]\u001b[0m\u001b[0;34m\u001b[0m\u001b[0;34m\u001b[0m\u001b[0m\n\u001b[0;32m--> 118\u001b[0;31m             \u001b[0;32mreturn\u001b[0m \u001b[0mh2_stream\u001b[0m\u001b[0;34m.\u001b[0m\u001b[0mrequest\u001b[0m\u001b[0;34m(\u001b[0m\u001b[0mmethod\u001b[0m\u001b[0;34m,\u001b[0m \u001b[0murl\u001b[0m\u001b[0;34m,\u001b[0m \u001b[0mheaders\u001b[0m\u001b[0;34m,\u001b[0m \u001b[0mstream\u001b[0m\u001b[0;34m,\u001b[0m \u001b[0mtimeout\u001b[0m\u001b[0;34m)\u001b[0m\u001b[0;34m\u001b[0m\u001b[0;34m\u001b[0m\u001b[0m\n\u001b[0m\u001b[1;32m    119\u001b[0m         \u001b[0;32mexcept\u001b[0m \u001b[0mException\u001b[0m\u001b[0;34m:\u001b[0m\u001b[0;34m\u001b[0m\u001b[0;34m\u001b[0m\u001b[0m\n\u001b[1;32m    120\u001b[0m             \u001b[0mself\u001b[0m\u001b[0;34m.\u001b[0m\u001b[0mmax_streams_semaphore\u001b[0m\u001b[0;34m.\u001b[0m\u001b[0mrelease\u001b[0m\u001b[0;34m(\u001b[0m\u001b[0;34m)\u001b[0m\u001b[0;34m\u001b[0m\u001b[0;34m\u001b[0m\u001b[0m\n",
            "\u001b[0;32m/usr/local/lib/python3.7/dist-packages/httpcore/_sync/http2.py\u001b[0m in \u001b[0;36mrequest\u001b[0;34m(self, method, url, headers, stream, timeout)\u001b[0m\n\u001b[1;32m    285\u001b[0m         )\n\u001b[1;32m    286\u001b[0m \u001b[0;34m\u001b[0m\u001b[0m\n\u001b[0;32m--> 287\u001b[0;31m         \u001b[0mself\u001b[0m\u001b[0;34m.\u001b[0m\u001b[0msend_headers\u001b[0m\u001b[0;34m(\u001b[0m\u001b[0mmethod\u001b[0m\u001b[0;34m,\u001b[0m \u001b[0murl\u001b[0m\u001b[0;34m,\u001b[0m \u001b[0mheaders\u001b[0m\u001b[0;34m,\u001b[0m \u001b[0mhas_body\u001b[0m\u001b[0;34m,\u001b[0m \u001b[0mtimeout\u001b[0m\u001b[0;34m)\u001b[0m\u001b[0;34m\u001b[0m\u001b[0;34m\u001b[0m\u001b[0m\n\u001b[0m\u001b[1;32m    288\u001b[0m         \u001b[0;32mif\u001b[0m \u001b[0mhas_body\u001b[0m\u001b[0;34m:\u001b[0m\u001b[0;34m\u001b[0m\u001b[0;34m\u001b[0m\u001b[0m\n\u001b[1;32m    289\u001b[0m             \u001b[0mself\u001b[0m\u001b[0;34m.\u001b[0m\u001b[0msend_body\u001b[0m\u001b[0;34m(\u001b[0m\u001b[0mstream\u001b[0m\u001b[0;34m,\u001b[0m \u001b[0mtimeout\u001b[0m\u001b[0;34m)\u001b[0m\u001b[0;34m\u001b[0m\u001b[0;34m\u001b[0m\u001b[0m\n",
            "\u001b[0;32m/usr/local/lib/python3.7/dist-packages/httpcore/_sync/http2.py\u001b[0m in \u001b[0;36msend_headers\u001b[0;34m(self, method, url, headers, has_body, timeout)\u001b[0m\n\u001b[1;32m    321\u001b[0m         \u001b[0mend_stream\u001b[0m \u001b[0;34m=\u001b[0m \u001b[0;32mnot\u001b[0m \u001b[0mhas_body\u001b[0m\u001b[0;34m\u001b[0m\u001b[0;34m\u001b[0m\u001b[0m\n\u001b[1;32m    322\u001b[0m \u001b[0;34m\u001b[0m\u001b[0m\n\u001b[0;32m--> 323\u001b[0;31m         \u001b[0mself\u001b[0m\u001b[0;34m.\u001b[0m\u001b[0mconnection\u001b[0m\u001b[0;34m.\u001b[0m\u001b[0msend_headers\u001b[0m\u001b[0;34m(\u001b[0m\u001b[0mself\u001b[0m\u001b[0;34m.\u001b[0m\u001b[0mstream_id\u001b[0m\u001b[0;34m,\u001b[0m \u001b[0mheaders\u001b[0m\u001b[0;34m,\u001b[0m \u001b[0mend_stream\u001b[0m\u001b[0;34m,\u001b[0m \u001b[0mtimeout\u001b[0m\u001b[0;34m)\u001b[0m\u001b[0;34m\u001b[0m\u001b[0;34m\u001b[0m\u001b[0m\n\u001b[0m\u001b[1;32m    324\u001b[0m \u001b[0;34m\u001b[0m\u001b[0m\n\u001b[1;32m    325\u001b[0m     \u001b[0;32mdef\u001b[0m \u001b[0msend_body\u001b[0m\u001b[0;34m(\u001b[0m\u001b[0mself\u001b[0m\u001b[0;34m,\u001b[0m \u001b[0mstream\u001b[0m\u001b[0;34m:\u001b[0m \u001b[0mSyncByteStream\u001b[0m\u001b[0;34m,\u001b[0m \u001b[0mtimeout\u001b[0m\u001b[0;34m:\u001b[0m \u001b[0mTimeoutDict\u001b[0m\u001b[0;34m)\u001b[0m \u001b[0;34m->\u001b[0m \u001b[0;32mNone\u001b[0m\u001b[0;34m:\u001b[0m\u001b[0;34m\u001b[0m\u001b[0;34m\u001b[0m\u001b[0m\n",
            "\u001b[0;32m/usr/local/lib/python3.7/dist-packages/httpcore/_sync/http2.py\u001b[0m in \u001b[0;36msend_headers\u001b[0;34m(self, stream_id, headers, end_stream, timeout)\u001b[0m\n\u001b[1;32m    221\u001b[0m     ) -> None:\n\u001b[1;32m    222\u001b[0m         \u001b[0mlogger\u001b[0m\u001b[0;34m.\u001b[0m\u001b[0mtrace\u001b[0m\u001b[0;34m(\u001b[0m\u001b[0;34m\"send_headers stream_id=%r headers=%r\"\u001b[0m\u001b[0;34m,\u001b[0m \u001b[0mstream_id\u001b[0m\u001b[0;34m,\u001b[0m \u001b[0mheaders\u001b[0m\u001b[0;34m)\u001b[0m\u001b[0;34m\u001b[0m\u001b[0;34m\u001b[0m\u001b[0m\n\u001b[0;32m--> 223\u001b[0;31m         \u001b[0mself\u001b[0m\u001b[0;34m.\u001b[0m\u001b[0mh2_state\u001b[0m\u001b[0;34m.\u001b[0m\u001b[0msend_headers\u001b[0m\u001b[0;34m(\u001b[0m\u001b[0mstream_id\u001b[0m\u001b[0;34m,\u001b[0m \u001b[0mheaders\u001b[0m\u001b[0;34m,\u001b[0m \u001b[0mend_stream\u001b[0m\u001b[0;34m=\u001b[0m\u001b[0mend_stream\u001b[0m\u001b[0;34m)\u001b[0m\u001b[0;34m\u001b[0m\u001b[0;34m\u001b[0m\u001b[0m\n\u001b[0m\u001b[1;32m    224\u001b[0m         \u001b[0mself\u001b[0m\u001b[0;34m.\u001b[0m\u001b[0mh2_state\u001b[0m\u001b[0;34m.\u001b[0m\u001b[0mincrement_flow_control_window\u001b[0m\u001b[0;34m(\u001b[0m\u001b[0;36m2\u001b[0m \u001b[0;34m**\u001b[0m \u001b[0;36m24\u001b[0m\u001b[0;34m,\u001b[0m \u001b[0mstream_id\u001b[0m\u001b[0;34m=\u001b[0m\u001b[0mstream_id\u001b[0m\u001b[0;34m)\u001b[0m\u001b[0;34m\u001b[0m\u001b[0;34m\u001b[0m\u001b[0m\n\u001b[1;32m    225\u001b[0m         \u001b[0mdata_to_send\u001b[0m \u001b[0;34m=\u001b[0m \u001b[0mself\u001b[0m\u001b[0;34m.\u001b[0m\u001b[0mh2_state\u001b[0m\u001b[0;34m.\u001b[0m\u001b[0mdata_to_send\u001b[0m\u001b[0;34m(\u001b[0m\u001b[0;34m)\u001b[0m\u001b[0;34m\u001b[0m\u001b[0;34m\u001b[0m\u001b[0m\n",
            "\u001b[0;32m/usr/local/lib/python3.7/dist-packages/h2/connection.py\u001b[0m in \u001b[0;36msend_headers\u001b[0;34m(self, stream_id, headers, end_stream, priority_weight, priority_depends_on, priority_exclusive)\u001b[0m\n\u001b[1;32m    769\u001b[0m         )\n\u001b[1;32m    770\u001b[0m         frames = stream.send_headers(\n\u001b[0;32m--> 771\u001b[0;31m             \u001b[0mheaders\u001b[0m\u001b[0;34m,\u001b[0m \u001b[0mself\u001b[0m\u001b[0;34m.\u001b[0m\u001b[0mencoder\u001b[0m\u001b[0;34m,\u001b[0m \u001b[0mend_stream\u001b[0m\u001b[0;34m\u001b[0m\u001b[0;34m\u001b[0m\u001b[0m\n\u001b[0m\u001b[1;32m    772\u001b[0m         )\n\u001b[1;32m    773\u001b[0m \u001b[0;34m\u001b[0m\u001b[0m\n",
            "\u001b[0;32m/usr/local/lib/python3.7/dist-packages/h2/stream.py\u001b[0m in \u001b[0;36msend_headers\u001b[0;34m(self, headers, encoder, end_stream)\u001b[0m\n\u001b[1;32m    864\u001b[0m         \u001b[0mhdr_validation_flags\u001b[0m \u001b[0;34m=\u001b[0m \u001b[0mself\u001b[0m\u001b[0;34m.\u001b[0m\u001b[0m_build_hdr_validation_flags\u001b[0m\u001b[0;34m(\u001b[0m\u001b[0mevents\u001b[0m\u001b[0;34m)\u001b[0m\u001b[0;34m\u001b[0m\u001b[0;34m\u001b[0m\u001b[0m\n\u001b[1;32m    865\u001b[0m         frames = self._build_headers_frames(\n\u001b[0;32m--> 866\u001b[0;31m             \u001b[0mheaders\u001b[0m\u001b[0;34m,\u001b[0m \u001b[0mencoder\u001b[0m\u001b[0;34m,\u001b[0m \u001b[0mhf\u001b[0m\u001b[0;34m,\u001b[0m \u001b[0mhdr_validation_flags\u001b[0m\u001b[0;34m\u001b[0m\u001b[0;34m\u001b[0m\u001b[0m\n\u001b[0m\u001b[1;32m    867\u001b[0m         )\n\u001b[1;32m    868\u001b[0m \u001b[0;34m\u001b[0m\u001b[0m\n",
            "\u001b[0;32m/usr/local/lib/python3.7/dist-packages/h2/stream.py\u001b[0m in \u001b[0;36m_build_headers_frames\u001b[0;34m(self, headers, encoder, first_frame, hdr_validation_flags)\u001b[0m\n\u001b[1;32m   1250\u001b[0m             )\n\u001b[1;32m   1251\u001b[0m \u001b[0;34m\u001b[0m\u001b[0m\n\u001b[0;32m-> 1252\u001b[0;31m         \u001b[0mencoded_headers\u001b[0m \u001b[0;34m=\u001b[0m \u001b[0mencoder\u001b[0m\u001b[0;34m.\u001b[0m\u001b[0mencode\u001b[0m\u001b[0;34m(\u001b[0m\u001b[0mheaders\u001b[0m\u001b[0;34m)\u001b[0m\u001b[0;34m\u001b[0m\u001b[0;34m\u001b[0m\u001b[0m\n\u001b[0m\u001b[1;32m   1253\u001b[0m \u001b[0;34m\u001b[0m\u001b[0m\n\u001b[1;32m   1254\u001b[0m         \u001b[0;31m# Slice into blocks of max_outbound_frame_size. Be careful with this:\u001b[0m\u001b[0;34m\u001b[0m\u001b[0;34m\u001b[0m\u001b[0;34m\u001b[0m\u001b[0m\n",
            "\u001b[0;32m/usr/local/lib/python3.7/dist-packages/hpack/hpack.py\u001b[0m in \u001b[0;36mencode\u001b[0;34m(self, headers, huffman)\u001b[0m\n\u001b[1;32m    255\u001b[0m \u001b[0;34m\u001b[0m\u001b[0m\n\u001b[1;32m    256\u001b[0m             \u001b[0mheader\u001b[0m \u001b[0;34m=\u001b[0m \u001b[0;34m(\u001b[0m\u001b[0m_to_bytes\u001b[0m\u001b[0;34m(\u001b[0m\u001b[0mheader\u001b[0m\u001b[0;34m[\u001b[0m\u001b[0;36m0\u001b[0m\u001b[0;34m]\u001b[0m\u001b[0;34m)\u001b[0m\u001b[0;34m,\u001b[0m \u001b[0m_to_bytes\u001b[0m\u001b[0;34m(\u001b[0m\u001b[0mheader\u001b[0m\u001b[0;34m[\u001b[0m\u001b[0;36m1\u001b[0m\u001b[0;34m]\u001b[0m\u001b[0;34m)\u001b[0m\u001b[0;34m)\u001b[0m\u001b[0;34m\u001b[0m\u001b[0;34m\u001b[0m\u001b[0m\n\u001b[0;32m--> 257\u001b[0;31m             \u001b[0mheader_block\u001b[0m\u001b[0;34m.\u001b[0m\u001b[0mappend\u001b[0m\u001b[0;34m(\u001b[0m\u001b[0mself\u001b[0m\u001b[0;34m.\u001b[0m\u001b[0madd\u001b[0m\u001b[0;34m(\u001b[0m\u001b[0mheader\u001b[0m\u001b[0;34m,\u001b[0m \u001b[0msensitive\u001b[0m\u001b[0;34m,\u001b[0m \u001b[0mhuffman\u001b[0m\u001b[0;34m)\u001b[0m\u001b[0;34m)\u001b[0m\u001b[0;34m\u001b[0m\u001b[0;34m\u001b[0m\u001b[0m\n\u001b[0m\u001b[1;32m    258\u001b[0m \u001b[0;34m\u001b[0m\u001b[0m\n\u001b[1;32m    259\u001b[0m         \u001b[0mheader_block\u001b[0m \u001b[0;34m=\u001b[0m \u001b[0;34mb''\u001b[0m\u001b[0;34m.\u001b[0m\u001b[0mjoin\u001b[0m\u001b[0;34m(\u001b[0m\u001b[0mheader_block\u001b[0m\u001b[0;34m)\u001b[0m\u001b[0;34m\u001b[0m\u001b[0;34m\u001b[0m\u001b[0m\n",
            "\u001b[0;32m/usr/local/lib/python3.7/dist-packages/hpack/hpack.py\u001b[0m in \u001b[0;36madd\u001b[0;34m(self, to_add, sensitive, huffman)\u001b[0m\n\u001b[1;32m    300\u001b[0m             \u001b[0;31m# pushed out other valuable headers.\u001b[0m\u001b[0;34m\u001b[0m\u001b[0;34m\u001b[0m\u001b[0;34m\u001b[0m\u001b[0m\n\u001b[1;32m    301\u001b[0m             encoded = self._encode_indexed_literal(\n\u001b[0;32m--> 302\u001b[0;31m                 \u001b[0mindex\u001b[0m\u001b[0;34m,\u001b[0m \u001b[0mvalue\u001b[0m\u001b[0;34m,\u001b[0m \u001b[0mindexbit\u001b[0m\u001b[0;34m,\u001b[0m \u001b[0mhuffman\u001b[0m\u001b[0;34m\u001b[0m\u001b[0;34m\u001b[0m\u001b[0m\n\u001b[0m\u001b[1;32m    303\u001b[0m             )\n\u001b[1;32m    304\u001b[0m             \u001b[0;32mif\u001b[0m \u001b[0;32mnot\u001b[0m \u001b[0msensitive\u001b[0m\u001b[0;34m:\u001b[0m\u001b[0;34m\u001b[0m\u001b[0;34m\u001b[0m\u001b[0m\n",
            "\u001b[0;32m/usr/local/lib/python3.7/dist-packages/hpack/hpack.py\u001b[0m in \u001b[0;36m_encode_indexed_literal\u001b[0;34m(self, index, value, indexbit, huffman)\u001b[0m\n\u001b[1;32m    349\u001b[0m \u001b[0;34m\u001b[0m\u001b[0m\n\u001b[1;32m    350\u001b[0m         \u001b[0;32mif\u001b[0m \u001b[0mhuffman\u001b[0m\u001b[0;34m:\u001b[0m\u001b[0;34m\u001b[0m\u001b[0;34m\u001b[0m\u001b[0m\n\u001b[0;32m--> 351\u001b[0;31m             \u001b[0mvalue\u001b[0m \u001b[0;34m=\u001b[0m \u001b[0mself\u001b[0m\u001b[0;34m.\u001b[0m\u001b[0mhuffman_coder\u001b[0m\u001b[0;34m.\u001b[0m\u001b[0mencode\u001b[0m\u001b[0;34m(\u001b[0m\u001b[0mvalue\u001b[0m\u001b[0;34m)\u001b[0m\u001b[0;34m\u001b[0m\u001b[0;34m\u001b[0m\u001b[0m\n\u001b[0m\u001b[1;32m    352\u001b[0m \u001b[0;34m\u001b[0m\u001b[0m\n\u001b[1;32m    353\u001b[0m         \u001b[0mvalue_len\u001b[0m \u001b[0;34m=\u001b[0m \u001b[0mencode_integer\u001b[0m\u001b[0;34m(\u001b[0m\u001b[0mlen\u001b[0m\u001b[0;34m(\u001b[0m\u001b[0mvalue\u001b[0m\u001b[0;34m)\u001b[0m\u001b[0;34m,\u001b[0m \u001b[0;36m7\u001b[0m\u001b[0;34m)\u001b[0m\u001b[0;34m\u001b[0m\u001b[0;34m\u001b[0m\u001b[0m\n",
            "\u001b[0;32m/usr/local/lib/python3.7/dist-packages/hpack/huffman.py\u001b[0m in \u001b[0;36mencode\u001b[0;34m(self, bytes_to_encode)\u001b[0m\n\u001b[1;32m     40\u001b[0m                 \u001b[0;36m2\u001b[0m \u001b[0;34m**\u001b[0m \u001b[0;34m(\u001b[0m\u001b[0mbin_int_len\u001b[0m \u001b[0;34m+\u001b[0m \u001b[0;36m1\u001b[0m\u001b[0;34m)\u001b[0m \u001b[0;34m-\u001b[0m \u001b[0;36m1\u001b[0m\u001b[0;34m\u001b[0m\u001b[0;34m\u001b[0m\u001b[0m\n\u001b[1;32m     41\u001b[0m             )\n\u001b[0;32m---> 42\u001b[0;31m             \u001b[0mfinal_num\u001b[0m \u001b[0;34m<<=\u001b[0m \u001b[0mbin_int_len\u001b[0m\u001b[0;34m\u001b[0m\u001b[0;34m\u001b[0m\u001b[0m\n\u001b[0m\u001b[1;32m     43\u001b[0m             \u001b[0mfinal_num\u001b[0m \u001b[0;34m|=\u001b[0m \u001b[0mbin_int\u001b[0m\u001b[0;34m\u001b[0m\u001b[0;34m\u001b[0m\u001b[0m\n\u001b[1;32m     44\u001b[0m             \u001b[0mfinal_int_len\u001b[0m \u001b[0;34m+=\u001b[0m \u001b[0mbin_int_len\u001b[0m\u001b[0;34m\u001b[0m\u001b[0;34m\u001b[0m\u001b[0m\n",
            "\u001b[0;31mKeyboardInterrupt\u001b[0m: "
          ]
        }
      ]
    },
    {
      "cell_type": "markdown",
      "metadata": {
        "id": "Rc6WUyexIZO1"
      },
      "source": [
        "Ho fem per totes les reviews:"
      ]
    },
    {
      "cell_type": "code",
      "metadata": {
        "colab": {
          "base_uri": "https://localhost:8080/"
        },
        "id": "MQsXmVzQERvJ",
        "outputId": "acaf2ae9-fa94-4dd7-8900-7fc3b2a4e680"
      },
      "source": [
        "docs = []\n",
        "for restaurant in data:\n",
        "  for review in restaurant['reviews_data']:\n",
        "    docs.append(preprocess(review['snippet']))\n",
        "len(docs)\n",
        "\n",
        "#for elem in dictionary:\n",
        "#  print(dictionary[elem])"
      ],
      "execution_count": null,
      "outputs": [
        {
          "output_type": "execute_result",
          "data": {
            "text/plain": [
              "42104"
            ]
          },
          "metadata": {},
          "execution_count": 66
        }
      ]
    },
    {
      "cell_type": "markdown",
      "metadata": {
        "id": "J9AVTEr3Icxc"
      },
      "source": [
        "LDA"
      ]
    },
    {
      "cell_type": "code",
      "metadata": {
        "id": "CxDsMAHdIb-_"
      },
      "source": [
        "# Pot tardar uns 3 minuts\n",
        "dictionary = gensim.corpora.Dictionary(docs)\n",
        "corpus = [dictionary.doc2bow(doc) for doc in docs]\n",
        "num_topics = 5\n",
        "\n",
        "lda_model = gensim.models.LdaMulticore(corpus, \n",
        "                                   num_topics = num_topics, \n",
        "                                   id2word = dictionary,                                    \n",
        "                                   passes = 10,\n",
        "                                   workers = 2)"
      ],
      "execution_count": null,
      "outputs": []
    },
    {
      "cell_type": "code",
      "metadata": {
        "id": "HTF7Sq6SLJf4",
        "colab": {
          "base_uri": "https://localhost:8080/"
        },
        "outputId": "d53d8c37-1284-4c12-82f5-d880ebe1f421"
      },
      "source": [
        "for idx, topic in lda_model.print_topics(-1):\n",
        "    print(\"Topic: {} \\nWords: {}\".format(idx, topic ))\n",
        "    print(\"\\n\")"
      ],
      "execution_count": null,
      "outputs": [
        {
          "output_type": "stream",
          "name": "stdout",
          "text": [
            "Topic: 0 \n",
            "Words: 0.016*\"food\" + 0.014*\"good\" + 0.014*\"table\" + 0.013*\"menu\" + 0.013*\"restaurant\" + 0.013*\"time\" + 0.012*\"service\" + 0.012*\"order\" + 0.011*\"dish\" + 0.009*\"go\"\n",
            "\n",
            "\n",
            "Topic: 1 \n",
            "Words: 0.076*\"food\" + 0.075*\"good\" + 0.051*\"service\" + 0.042*\"great\" + 0.028*\"excellent\" + 0.026*\"recommend\" + 0.023*\"price\" + 0.023*\"place\" + 0.020*\"quality\" + 0.020*\"staff\"\n",
            "\n",
            "\n",
            "Topic: 2 \n",
            "Words: 0.052*\"good\" + 0.041*\"nice\" + 0.041*\"food\" + 0.041*\"place\" + 0.035*\"great\" + 0.021*\"price\" + 0.015*\"staff\" + 0.015*\"tapas\" + 0.013*\"friendly\" + 0.012*\"drink\"\n",
            "\n",
            "\n",
            "Topic: 3 \n",
            "Words: 0.031*\"best\" + 0.019*\"barcelona\" + 0.012*\"taste\" + 0.012*\"delicious\" + 0.011*\"place\" + 0.010*\"like\" + 0.010*\"dish\" + 0.009*\"amaze\" + 0.009*\"restaurant\" + 0.009*\"recommend\"\n",
            "\n",
            "\n",
            "Topic: 4 \n",
            "Words: 0.013*\"hotel\" + 0.010*\"comida\" + 0.009*\"para\" + 0.007*\"familia\" + 0.006*\"pero\" + 0.006*\"servicio\" + 0.006*\"buena\" + 0.006*\"room\" + 0.005*\"personal\" + 0.005*\"bien\"\n",
            "\n",
            "\n"
          ]
        }
      ]
    },
    {
      "cell_type": "code",
      "metadata": {
        "id": "oE5Y9yXBL1vI",
        "colab": {
          "base_uri": "https://localhost:8080/",
          "height": 916
        },
        "outputId": "71aa7fdf-e415-4214-b0e0-09a0ea774fce"
      },
      "source": [
        "# Visualize the topics\n",
        "pyLDAvis.enable_notebook()\n",
        "LDAvis_data_filepath = os.path.join('./test'+str(8))\n",
        "# # this is a bit time consuming - make the if statement True\n",
        "# # if you want to execute visualization prep yourself\n",
        "if 1 == 1:\n",
        "    LDAvis_prepared = pyLDAvis.gensim_models.prepare(lda_model, corpus, dictionary)\n",
        "    with open(LDAvis_data_filepath, 'wb') as f:\n",
        "        pickle.dump(LDAvis_prepared, f) # load the pre-prepared pyLDAvis data from disk\n",
        "\n",
        "with open(LDAvis_data_filepath, 'rb') as f:\n",
        "    LDAvis_prepared = pickle.load(f)\n",
        "\n",
        "pyLDAvis.save_html(LDAvis_prepared, './hola'+ str(8 ) +'.html')\n",
        "LDAvis_prepared"
      ],
      "execution_count": null,
      "outputs": [
        {
          "output_type": "stream",
          "name": "stderr",
          "text": [
            "/usr/local/lib/python3.7/dist-packages/pyLDAvis/_prepare.py:247: FutureWarning: In a future version of pandas all arguments of DataFrame.drop except for the argument 'labels' will be keyword-only\n",
            "  by='saliency', ascending=False).head(R).drop('saliency', 1)\n"
          ]
        },
        {
          "output_type": "execute_result",
          "data": {
            "text/html": [
              "\n",
              "<link rel=\"stylesheet\" type=\"text/css\" href=\"https://cdn.jsdelivr.net/gh/bmabey/pyLDAvis@3.3.1/pyLDAvis/js/ldavis.v1.0.0.css\">\n",
              "\n",
              "\n",
              "<div id=\"ldavis_el1701405370633617441426416772\"></div>\n",
              "<script type=\"text/javascript\">\n",
              "\n",
              "var ldavis_el1701405370633617441426416772_data = {\"mdsDat\": {\"x\": [-0.1180132456879538, -0.13923066373470777, -0.09447902147270215, -0.07735903618676217, 0.4290819670821255], \"y\": [0.055331443370990725, 0.19347053672897063, -0.17367416085338597, -0.09733473758425666, 0.02220691833768145], \"topics\": [1, 2, 3, 4, 5], \"cluster\": [1, 1, 1, 1, 1], \"Freq\": [24.784940419139794, 24.764992921175395, 24.013141814664028, 20.78203157333948, 5.654893271681311]}, \"tinfo\": {\"Term\": [\"good\", \"food\", \"great\", \"service\", \"nice\", \"price\", \"menu\", \"dish\", \"friendly\", \"excellent\", \"place\", \"amaze\", \"barcelona\", \"staff\", \"quality\", \"order\", \"atmosphere\", \"best\", \"ramen\", \"delicious\", \"value\", \"recommend\", \"table\", \"tapas\", \"flavor\", \"burger\", \"dessert\", \"wait\", \"view\", \"leave\", \"ramen\", \"spot\", \"vegan\", \"vegetarian\", \"favourite\", \"miso\", \"accommodate\", \"veggie\", \"trip\", \"vietnamese\", \"sagrada\", \"craft\", \"brilliant\", \"stun\", \"glad\", \"bartender\", \"nights\", \"gothic\", \"shoyu\", \"quarter\", \"japan\", \"gyoza\", \"forward\", \"outdoor\", \"westville\", \"stumble\", \"counter\", \"version\", \"dumplings\", \"creme\", \"historical\", \"hotel\", \"english\", \"brunch\", \"popular\", \"cute\", \"familia\", \"town\", \"absolutely\", \"cocktail\", \"barcelona\", \"speak\", \"visit\", \"night\", \"city\", \"best\", \"amaze\", \"tapas\", \"meal\", \"sangria\", \"stay\", \"definitely\", \"seat\", \"din\", \"great\", \"enjoy\", \"walk\", \"experience\", \"place\", \"options\", \"spanish\", \"staff\", \"love\", \"come\", \"look\", \"restaurant\", \"delicious\", \"food\", \"time\", \"recommend\", \"nice\", \"friendly\", \"service\", \"paella\", \"view\", \"worth\", \"drink\", \"wine\", \"chilean\", \"inexpensive\", \"milkshakes\", \"poblenou\", \"energy\", \"breathtaking\", \"piano\", \"indian\", \"hospitable\", \"swad\", \"greek\", \"venezuelan\", \"frills\", \"lick\", \"recomended\", \"personalize\", \"italian\", \"lassi\", \"excelent\", \"events\", \"maharaja\", \"mirabe\", \"grow\", \"north\", \"korma\", \"helpfull\", \"instant\", \"pitcher\", \"deer\", \"bang\", \"thankful\", \"reasonable\", \"atmosphere\", \"friendly\", \"nice\", \"excellent\", \"good\", \"food\", \"affordable\", \"price\", \"fast\", \"service\", \"great\", \"cozy\", \"quality\", \"super\", \"staff\", \"highly\", \"pizzas\", \"tasty\", \"treatment\", \"recommend\", \"place\", \"pizza\", \"delicious\", \"view\", \"attentive\", \"cheap\", \"authentic\", \"location\", \"restaurant\", \"amaze\", \"perfect\", \"attention\", \"love\", \"best\", \"tapas\", \"barcelona\", \"ask\", \"charge\", \"slow\", \"pay\", \"poor\", \"okay\", \"rude\", \"worst\", \"hamburger\", \"terrible\", \"say\", \"hamburgers\", \"avoid\", \"shame\", \"tasteless\", \"loud\", \"attitude\", \"bland\", \"mediocre\", \"sorry\", \"minutes\", \"customers\", \"milkshake\", \"mistake\", \"shake\", \"obviously\", \"peanuts\", \"card\", \"awful\", \"burn\", \"burger\", \"tell\", \"horrible\", \"comment\", \"average\", \"instead\", \"arrive\", \"leave\", \"overprice\", \"bring\", \"review\", \"order\", \"half\", \"burgers\", \"table\", \"maybe\", \"expect\", \"wasn\", \"thing\", \"think\", \"expensive\", \"like\", \"know\", \"better\", \"wait\", \"time\", \"take\", \"fry\", \"want\", \"go\", \"come\", \"serve\", \"people\", \"food\", \"good\", \"waiter\", \"restaurant\", \"service\", \"place\", \"taste\", \"drink\", \"price\", \"little\", \"star\", \"value\", \"daily\", \"product\", \"duck\", \"tartare\", \"noon\", \"elaborate\", \"carte\", \"snail\", \"extensive\", \"clam\", \"gras\", \"cannelloni\", \"gastronomic\", \"scallop\", \"seasonal\", \"creamy\", \"tavern\", \"gastronomy\", \"material\", \"sirloin\", \"veal\", \"execute\", \"temperature\", \"tarragona\", \"creativity\", \"weekdays\", \"iberico\", \"orange\", \"christmas\", \"foie\", \"accompany\", \"artichokes\", \"chocolate\", \"highlight\", \"cake\", \"flavor\", \"vary\", \"tacos\", \"truffle\", \"brutal\", \"congratulations\", \"cream\", \"delight\", \"menu\", \"dish\", \"dessert\", \"money\", \"rice\", \"michelin\", \"squid\", \"fish\", \"rich\", \"spectacular\", \"black\", \"cheese\", \"cuisine\", \"desserts\", \"presentation\", \"taste\", \"repeat\", \"surprise\", \"cook\", \"sushi\", \"exquisite\", \"meat\", \"grill\", \"good\", \"wine\", \"course\", \"quality\", \"star\", \"restaurant\", \"delicious\", \"excellent\", \"recommend\", \"price\", \"like\", \"service\", \"attention\", \"experience\", \"best\", \"lunch\", \"comida\", \"para\", \"pero\", \"servicio\", \"buena\", \"history\", \"bien\", \"todo\", \"calidad\", \"restaurante\", \"excelente\", \"precio\", \"buen\", \"men\\u00fa\", \"school\", \"platos\", \"como\", \"atenci\\u00f3n\", \"molt\", \"lugar\", \"mucho\", \"sitio\", \"comer\", \"cal\\u00e7ots\", \"trato\", \"bueno\", \"espectacular\", \"solo\", \"experiencia\", \"glovo\", \"gracias\", \"personal\", \"japanese\", \"barcelona\", \"local\"], \"Freq\": [18500.0, 18476.0, 9603.0, 10566.0, 5847.0, 6446.0, 4665.0, 4263.0, 4199.0, 4140.0, 9904.0, 3543.0, 4161.0, 5089.0, 4057.0, 2924.0, 2168.0, 4254.0, 1257.0, 4359.0, 972.0, 5401.0, 2077.0, 2642.0, 922.0, 901.0, 1027.0, 1335.0, 1533.0, 1044.0, 1256.0742483587137, 553.4290424625561, 496.379655784085, 446.2548647843838, 185.97794888356333, 178.9495512540098, 171.82949160139316, 157.3818956808599, 247.88289296982228, 160.8518784286184, 231.70702002599697, 114.0427912656131, 108.5751778426904, 114.0230937157863, 93.86327198861704, 90.39003548565698, 90.62706638108882, 87.90249587938067, 75.2121823402447, 72.72500868198617, 77.14574029073003, 70.081137673591, 78.53968402281825, 165.47197215313744, 63.102162914917514, 61.9646731670746, 58.9985411743666, 58.46041063651984, 71.0782187357845, 57.04910823976197, 84.24816283996783, 367.2867510974412, 500.8915402708238, 274.40332083722336, 164.33557627165203, 131.73819971015166, 187.28769274999453, 242.83484690468026, 604.7231805761267, 119.63375303670398, 3037.8860935664584, 425.2489394185319, 1128.6214908662098, 512.4969293127148, 481.462787218486, 2625.9696587259223, 2147.2159687723056, 1663.928723844984, 861.7226182973263, 340.0338066739208, 313.0615284692572, 1005.8688424278522, 473.5976733124452, 413.998265381357, 3511.419519135607, 823.7507700388209, 338.75473879784994, 1264.8997689712528, 3111.965682702446, 498.89521427989683, 479.45198241468154, 1721.430804132237, 945.4053834944266, 1136.7461732923427, 673.9092491751771, 1626.2190216534789, 1288.3046586122941, 2795.6055942655867, 916.2536461821104, 1114.5533034862012, 1142.1503663327053, 966.3030518901481, 1270.8861693971257, 643.3678003991523, 644.6234794236518, 635.3899426820674, 676.570041301699, 628.6894662980147, 125.59893082448521, 59.418339091480114, 56.25276948009378, 37.01303251494556, 37.060233611664486, 31.660221075855116, 32.61654208347362, 737.3577590037298, 25.41234950016985, 24.746955528437226, 60.84572712384344, 22.924466972014258, 20.536252842513154, 21.678313901745483, 19.353526742772253, 19.644606796696504, 486.2716442422089, 18.704489803167178, 34.436951979271456, 29.602351031474477, 18.070802361333115, 17.68626405641549, 17.497099977787233, 16.784665876363054, 15.267256537127913, 14.96794629871135, 17.47788528411195, 15.074195466639358, 15.277955876330285, 14.550155385533458, 15.512987608771681, 742.594235001467, 1740.609836184623, 3144.0622226079404, 4293.611436157845, 3068.0808255173542, 12697.67077856427, 12651.607849887205, 301.3873171928781, 4533.299018644007, 962.1088731876456, 6828.603806638575, 5984.0711642941405, 612.4990459844928, 2496.0514815855904, 1083.3631330399903, 2965.803664058898, 1119.1835668108492, 144.16663243758612, 1314.0553851990667, 710.4045178571769, 2993.130634872567, 5000.21016885458, 328.33597972176347, 2168.9089948691767, 873.4719860881255, 722.749615743396, 383.21570443283497, 485.91896349798094, 582.0404278700211, 2094.847691971021, 1375.4100065990883, 714.2684896171442, 678.6904046231068, 860.2154253264972, 953.8870748787326, 799.711218566317, 889.3786761925154, 647.8311676428972, 374.2386946340215, 467.0248889735371, 335.9802641700773, 317.5721778153043, 301.02509108795726, 281.54086093418323, 274.2539137498517, 240.08675663766618, 237.66500916849182, 534.7643258278543, 164.67360210887367, 149.2638271878967, 144.01860889469953, 120.62435106624395, 119.49295874445792, 114.06152333205243, 163.0015326977571, 139.3551341151351, 109.92115217195943, 452.67408518013747, 322.5944905171313, 100.1380939933657, 101.94739833028952, 114.84627896086845, 98.56710286458765, 95.87313618116661, 105.52776158420703, 92.93492909735346, 92.51287292957163, 863.2689592424817, 640.5681450420931, 162.8786571466636, 117.57700348541135, 444.8025272318278, 153.8068620376288, 421.5649122226467, 875.6009721475104, 280.4921564126814, 452.12681033194764, 439.72182128103054, 2137.8250639371595, 272.7647625785138, 610.5189914542414, 1512.5405348008446, 339.3696007235619, 525.4065456198499, 365.16924265430123, 431.34565810257476, 685.2067933069388, 928.395806911085, 1693.0821015189592, 617.1041714088676, 919.143714167426, 863.35263362353, 1598.0426800370228, 654.7796559638729, 648.2152558665887, 836.2455255352764, 995.5637051965473, 1248.4561722438905, 889.1770017346674, 768.8113737661249, 3000.5665107773802, 2569.103172088048, 604.800152733018, 1302.6523833214542, 1517.7929674658785, 1359.9686560652235, 876.4735411719862, 763.3930722101404, 989.7810470321515, 685.4681755481057, 651.0053062672304, 971.5547142557446, 304.00226277803597, 355.6285895743699, 157.3803701905065, 116.05348038118564, 105.59244930381962, 98.27831721778097, 97.65658187060093, 93.04665100910474, 90.74470400254177, 94.79565605770583, 84.47115781176785, 82.61024093431841, 122.15265837704413, 73.50764082182405, 68.59427328020135, 75.36403506590881, 60.949468655587815, 60.20997140660836, 59.175909309913905, 66.24906775244379, 56.896415376957876, 57.137475737625564, 54.93220502214558, 54.875928921288505, 52.96889185640046, 49.87785872706304, 49.47513089998487, 49.309974735565945, 49.08123488201412, 151.45802849331702, 157.22777467302814, 82.53637792657938, 289.1511621897634, 198.0629515091281, 339.50352053400377, 845.7494624399156, 256.6908483980366, 186.63525757919257, 181.6657640241032, 119.27575659525759, 108.79614136368217, 278.7555358618674, 195.08636501789948, 3525.1330899329123, 3241.974296881433, 845.4228189139548, 699.875245196506, 727.0725745440886, 361.9041636125522, 198.9390216128397, 489.5999562214243, 451.58518160280585, 617.4835915375962, 186.36530039295587, 558.2664982477509, 627.8448245061585, 414.2198784811172, 329.83981370950863, 1399.6894415131394, 468.1389802768217, 427.1058348374815, 575.595414911406, 285.2278110986597, 389.73263378378135, 609.6087663136992, 325.7514598766518, 3221.2938820958293, 784.0406783292622, 467.3922521508993, 1057.367453221353, 567.3114447906717, 1134.0880715095934, 901.5776491595686, 870.0412600021702, 936.8082960153325, 911.7625661324154, 669.8285767825686, 948.5566833400177, 516.119771076996, 597.695056060828, 614.0820376033043, 475.62654001012913, 318.6485286365757, 296.3278038526324, 200.9794992120944, 191.052149058442, 190.2319463088193, 189.58782178424616, 164.74934972656507, 157.2915816254325, 156.09606188068724, 146.79911417320852, 132.2855550040992, 128.08516146279425, 127.27484732204988, 126.51884066618803, 116.68605668774885, 111.80363228783712, 108.95863159516955, 101.36305462096813, 96.58394512879413, 94.20485619012132, 85.48831609714502, 83.19197346932863, 77.20275817129587, 79.14873039731273, 72.45342341114102, 72.3750333156495, 71.3426320552432, 70.09896160999782, 68.37724009060747, 67.67504721522012, 78.91570191672594, 116.0076850500486, 106.53067318046142, 87.87278496179349, 79.70809749160264], \"Total\": [18500.0, 18476.0, 9603.0, 10566.0, 5847.0, 6446.0, 4665.0, 4263.0, 4199.0, 4140.0, 9904.0, 3543.0, 4161.0, 5089.0, 4057.0, 2924.0, 2168.0, 4254.0, 1257.0, 4359.0, 972.0, 5401.0, 2077.0, 2642.0, 922.0, 901.0, 1027.0, 1335.0, 1533.0, 1044.0, 1257.4651274612104, 554.2533620146703, 497.19157273317194, 447.29150996218704, 186.7939633943303, 179.76344414205087, 172.63616503790237, 158.1866510109714, 249.15104421249728, 161.68341443624593, 233.16317935533905, 114.84746751717081, 109.3812505497922, 114.88562164034344, 94.6934958801173, 91.19298450193527, 91.43595286969261, 88.70137115683187, 76.01122354113869, 73.52733963417464, 78.02030200403969, 70.8822348930282, 79.45723633279296, 167.5875384929533, 63.91279563872326, 62.76389328513137, 59.80716694647222, 59.27029911315101, 72.06418313916448, 57.853918377943614, 85.53688623688473, 383.45846508140033, 533.3541085691635, 289.45244579823975, 171.5016912189558, 137.2896178090106, 200.1914999471864, 266.02622981209413, 710.0694147895128, 124.96621052190244, 4161.178944960202, 514.4562349397156, 1553.5607899040526, 644.1607868935312, 600.8121345081051, 4254.498319416221, 3543.7237389367333, 2642.9004659497496, 1230.8040364335693, 428.2678515643042, 390.3752714766854, 1627.6584663539802, 647.0714470502252, 550.2703617085253, 9603.191359499462, 1410.456550081385, 437.94815040697233, 2743.3284830482, 9904.926276768576, 760.6206419855342, 720.2760548344543, 5089.396330990001, 2111.2097511437646, 2963.034978810191, 1321.0920059201624, 6182.11891599274, 4359.250976617721, 18476.230901992618, 3156.019306008925, 5401.888730688421, 5847.352594207224, 4199.192954611636, 10566.066565540137, 1486.8529191105645, 1533.512883618365, 1476.0028918716423, 2101.986968481046, 1906.959344412593, 126.43999860355953, 60.22457011749068, 57.081996040951594, 37.83604942562884, 37.88805945677214, 32.48906910626192, 33.48368497420252, 756.9724619585385, 26.22992617211708, 25.55324558485862, 62.881065143053796, 23.7440385955773, 21.341989135842596, 22.56904315952296, 20.152692356907334, 20.458774685379282, 507.3747738475653, 19.519382859414733, 35.997007468395026, 30.964100817317668, 18.903205117829582, 18.506089380836148, 18.33797304785527, 17.59322503219763, 16.081563105453714, 15.76958199554626, 18.41684156821974, 15.889425725085827, 16.150655869598438, 15.384213560702317, 16.40733490161402, 851.937551417959, 2168.3817833600147, 4199.192954611636, 5847.352594207224, 4140.188410045655, 18500.176257216004, 18476.230901992618, 366.5818643057939, 6446.5964776747505, 1289.930866138331, 10566.066565540137, 9603.191359499462, 848.7908530647074, 4057.7580094013497, 1639.3364787341266, 5089.396330990001, 1735.0737722962897, 180.01252541022592, 2113.02310198378, 1069.2108662448934, 5401.888730688421, 9904.926276768576, 451.7065242329616, 4359.250976617721, 1533.512883618365, 1254.0455200790573, 586.9112457123179, 787.2027270819779, 1017.4572434355736, 6182.11891599274, 3543.7237389367333, 1445.7233466658267, 1344.0946451341488, 2111.2097511437646, 4254.498319416221, 2642.9004659497496, 4161.178944960202, 648.7570295408327, 375.03286599136095, 468.03538406447694, 336.79590403018943, 318.3688774004727, 301.8309563831157, 282.3328301442338, 275.0464321809238, 240.8816811704039, 238.45635644824935, 536.5855268711899, 165.4712701961746, 150.08156757727434, 144.81253921730018, 121.4220779603593, 120.32355976441386, 114.85908152878801, 164.1479378391065, 140.34221519904293, 110.71597635499327, 456.0507030547479, 325.0965249589423, 100.93547044335361, 102.75944144595672, 115.7712567768464, 99.38042435352993, 96.66886265825926, 106.41848368418658, 93.72839734120501, 93.30701230788357, 901.6997415650494, 665.803980938883, 165.87577376952154, 119.17342603805264, 473.4254975973447, 157.5173296666013, 462.11547900972727, 1044.980815515034, 304.87912211229684, 513.6313114095199, 502.1628500399269, 2924.8798559560864, 298.61219052626774, 734.8322359601276, 2077.1625812917405, 392.6739455403348, 663.531493814671, 431.22316999426477, 526.2471159434126, 919.8825357537784, 1393.199899160411, 3083.4717044299123, 856.7995914540952, 1448.5202997554602, 1335.2705254007303, 3156.019306008925, 952.7438139992732, 970.5532788972067, 1428.1343679131635, 2020.5868233716442, 2963.034978810191, 1709.8029652400153, 1430.6585879478778, 18476.230901992618, 18500.176257216004, 966.6622348821361, 6182.11891599274, 10566.066565540137, 9904.926276768576, 2957.665525525578, 2101.986968481046, 6446.5964776747505, 1648.2045966694145, 1410.6837909465116, 972.6457465887132, 304.7926204417274, 356.68647999883353, 158.17412629247394, 116.84417827399878, 106.38715918091177, 99.06781965948927, 98.45610990848189, 93.84299838091671, 91.5333632718982, 95.62505473451198, 85.2611317520362, 83.40149334367476, 123.40049301746211, 74.29958678708317, 69.38519639236573, 76.27179684432566, 61.743748468432045, 60.999879743856106, 59.96363741759516, 67.15543124059224, 57.68868319125579, 57.93324113870181, 55.72164871665065, 55.67640244655242, 53.76836621937279, 50.665147783375055, 50.26686339342638, 50.104376764530365, 49.905065960337176, 154.15279918408584, 160.1454956741137, 84.28233411371336, 299.40665252307156, 204.25689535482746, 356.0362304104143, 922.799623725862, 270.25474050458206, 194.7089910571108, 190.87904029258567, 123.988161566241, 112.6819535049093, 304.62091711933664, 209.9581623311775, 4665.187788585176, 4263.992520473429, 1027.5052063328603, 841.0533216863197, 882.0342102453498, 416.00206709780224, 218.0370206374423, 597.208029414383, 563.3541521300974, 824.9336928345189, 209.0900572751324, 794.7068389993593, 947.4457889283188, 593.210893314061, 446.3956730349403, 2957.665525525578, 704.2394391669922, 669.4624419131976, 1053.3718894926467, 380.380065892795, 618.2056844189719, 1262.169908928041, 468.4558172200412, 18500.176257216004, 1906.959344412593, 843.7260275907911, 4057.7580094013497, 1410.6837909465116, 6182.11891599274, 4359.250976617721, 4140.188410045655, 5401.888730688421, 6446.5964776747505, 3083.4717044299123, 10566.066565540137, 1344.0946451341488, 2743.3284830482, 4254.498319416221, 1376.7999318698169, 319.41383467835203, 297.0928251676158, 201.74444887232423, 191.8170480070556, 190.99697990493243, 190.37718315062165, 165.51941302547215, 158.05669964482448, 156.86112916992718, 147.566064996357, 133.05129051636945, 128.8502364927334, 128.04048276992214, 127.28763118973087, 117.48460195975898, 112.56934242868388, 109.72372456759697, 102.12795951038458, 97.34908203306149, 94.96977784555261, 86.25381738788198, 83.95687963479926, 77.96808932637902, 79.9393537468717, 73.21833427781806, 73.14205470141387, 72.10911972105214, 70.8756919593415, 69.14214821854134, 68.45709519033772, 80.23636132108236, 242.505107071481, 482.16266250175613, 4161.178944960202, 714.9403027767031], \"Category\": [\"Default\", \"Default\", \"Default\", \"Default\", \"Default\", \"Default\", \"Default\", \"Default\", \"Default\", \"Default\", \"Default\", \"Default\", \"Default\", \"Default\", \"Default\", \"Default\", \"Default\", \"Default\", \"Default\", \"Default\", \"Default\", \"Default\", \"Default\", \"Default\", \"Default\", \"Default\", \"Default\", \"Default\", \"Default\", \"Default\", \"Topic1\", \"Topic1\", \"Topic1\", \"Topic1\", \"Topic1\", \"Topic1\", \"Topic1\", \"Topic1\", \"Topic1\", \"Topic1\", \"Topic1\", \"Topic1\", \"Topic1\", \"Topic1\", \"Topic1\", \"Topic1\", \"Topic1\", \"Topic1\", \"Topic1\", \"Topic1\", \"Topic1\", \"Topic1\", \"Topic1\", \"Topic1\", \"Topic1\", \"Topic1\", \"Topic1\", \"Topic1\", \"Topic1\", \"Topic1\", \"Topic1\", \"Topic1\", \"Topic1\", \"Topic1\", \"Topic1\", \"Topic1\", \"Topic1\", \"Topic1\", \"Topic1\", \"Topic1\", \"Topic1\", \"Topic1\", \"Topic1\", \"Topic1\", \"Topic1\", \"Topic1\", \"Topic1\", \"Topic1\", \"Topic1\", \"Topic1\", \"Topic1\", \"Topic1\", \"Topic1\", \"Topic1\", \"Topic1\", \"Topic1\", \"Topic1\", \"Topic1\", \"Topic1\", \"Topic1\", \"Topic1\", \"Topic1\", \"Topic1\", \"Topic1\", \"Topic1\", \"Topic1\", \"Topic1\", \"Topic1\", \"Topic1\", \"Topic1\", \"Topic1\", \"Topic1\", \"Topic1\", \"Topic1\", \"Topic1\", \"Topic1\", \"Topic1\", \"Topic1\", \"Topic2\", \"Topic2\", \"Topic2\", \"Topic2\", \"Topic2\", \"Topic2\", \"Topic2\", \"Topic2\", \"Topic2\", \"Topic2\", \"Topic2\", \"Topic2\", \"Topic2\", \"Topic2\", \"Topic2\", \"Topic2\", \"Topic2\", \"Topic2\", \"Topic2\", \"Topic2\", \"Topic2\", \"Topic2\", \"Topic2\", \"Topic2\", \"Topic2\", \"Topic2\", \"Topic2\", \"Topic2\", \"Topic2\", \"Topic2\", \"Topic2\", \"Topic2\", \"Topic2\", \"Topic2\", \"Topic2\", \"Topic2\", \"Topic2\", \"Topic2\", \"Topic2\", \"Topic2\", \"Topic2\", \"Topic2\", \"Topic2\", \"Topic2\", \"Topic2\", \"Topic2\", \"Topic2\", \"Topic2\", \"Topic2\", \"Topic2\", \"Topic2\", \"Topic2\", \"Topic2\", \"Topic2\", \"Topic2\", \"Topic2\", \"Topic2\", \"Topic2\", \"Topic2\", \"Topic2\", \"Topic2\", \"Topic2\", \"Topic2\", \"Topic2\", \"Topic2\", \"Topic2\", \"Topic2\", \"Topic2\", \"Topic3\", \"Topic3\", \"Topic3\", \"Topic3\", \"Topic3\", \"Topic3\", \"Topic3\", \"Topic3\", \"Topic3\", \"Topic3\", \"Topic3\", \"Topic3\", \"Topic3\", \"Topic3\", \"Topic3\", \"Topic3\", \"Topic3\", \"Topic3\", \"Topic3\", \"Topic3\", \"Topic3\", \"Topic3\", \"Topic3\", \"Topic3\", \"Topic3\", \"Topic3\", \"Topic3\", \"Topic3\", \"Topic3\", \"Topic3\", \"Topic3\", \"Topic3\", \"Topic3\", \"Topic3\", \"Topic3\", \"Topic3\", \"Topic3\", \"Topic3\", \"Topic3\", \"Topic3\", \"Topic3\", \"Topic3\", \"Topic3\", \"Topic3\", \"Topic3\", \"Topic3\", \"Topic3\", \"Topic3\", \"Topic3\", \"Topic3\", \"Topic3\", \"Topic3\", \"Topic3\", \"Topic3\", \"Topic3\", \"Topic3\", \"Topic3\", \"Topic3\", \"Topic3\", \"Topic3\", \"Topic3\", \"Topic3\", \"Topic3\", \"Topic3\", \"Topic3\", \"Topic3\", \"Topic3\", \"Topic3\", \"Topic3\", \"Topic3\", \"Topic3\", \"Topic3\", \"Topic3\", \"Topic3\", \"Topic4\", \"Topic4\", \"Topic4\", \"Topic4\", \"Topic4\", \"Topic4\", \"Topic4\", \"Topic4\", \"Topic4\", \"Topic4\", \"Topic4\", \"Topic4\", \"Topic4\", \"Topic4\", \"Topic4\", \"Topic4\", \"Topic4\", \"Topic4\", \"Topic4\", \"Topic4\", \"Topic4\", \"Topic4\", \"Topic4\", \"Topic4\", \"Topic4\", \"Topic4\", \"Topic4\", \"Topic4\", \"Topic4\", \"Topic4\", \"Topic4\", \"Topic4\", \"Topic4\", \"Topic4\", \"Topic4\", \"Topic4\", \"Topic4\", \"Topic4\", \"Topic4\", \"Topic4\", \"Topic4\", \"Topic4\", \"Topic4\", \"Topic4\", \"Topic4\", \"Topic4\", \"Topic4\", \"Topic4\", \"Topic4\", \"Topic4\", \"Topic4\", \"Topic4\", \"Topic4\", \"Topic4\", \"Topic4\", \"Topic4\", \"Topic4\", \"Topic4\", \"Topic4\", \"Topic4\", \"Topic4\", \"Topic4\", \"Topic4\", \"Topic4\", \"Topic4\", \"Topic4\", \"Topic4\", \"Topic4\", \"Topic4\", \"Topic4\", \"Topic4\", \"Topic4\", \"Topic4\", \"Topic4\", \"Topic4\", \"Topic4\", \"Topic4\", \"Topic4\", \"Topic4\", \"Topic4\", \"Topic4\", \"Topic4\", \"Topic4\", \"Topic5\", \"Topic5\", \"Topic5\", \"Topic5\", \"Topic5\", \"Topic5\", \"Topic5\", \"Topic5\", \"Topic5\", \"Topic5\", \"Topic5\", \"Topic5\", \"Topic5\", \"Topic5\", \"Topic5\", \"Topic5\", \"Topic5\", \"Topic5\", \"Topic5\", \"Topic5\", \"Topic5\", \"Topic5\", \"Topic5\", \"Topic5\", \"Topic5\", \"Topic5\", \"Topic5\", \"Topic5\", \"Topic5\", \"Topic5\", \"Topic5\", \"Topic5\", \"Topic5\", \"Topic5\", \"Topic5\"], \"logprob\": [30.0, 29.0, 28.0, 27.0, 26.0, 25.0, 24.0, 23.0, 22.0, 21.0, 20.0, 19.0, 18.0, 17.0, 16.0, 15.0, 14.0, 13.0, 12.0, 11.0, 10.0, 9.0, 8.0, 7.0, 6.0, 5.0, 4.0, 3.0, 2.0, 1.0, -4.6896, -5.5092, -5.618, -5.7245, -6.5997, -6.6382, -6.6788, -6.7667, -6.3124, -6.7449, -6.3799, -7.0888, -7.1379, -7.0889, -7.2835, -7.3212, -7.3186, -7.3491, -7.505, -7.5387, -7.4796, -7.5757, -7.4617, -6.7165, -7.6806, -7.6988, -7.7478, -7.757, -7.5616, -7.7814, -7.3916, -5.9192, -5.609, -6.2107, -6.7234, -6.9445, -6.5927, -6.333, -5.4206, -7.0409, -3.8064, -5.7727, -4.7966, -5.586, -5.6485, -3.9521, -4.1534, -4.4084, -5.0664, -5.9963, -6.0789, -4.9117, -5.665, -5.7995, -3.6616, -5.1115, -6.0001, -4.6826, -3.7823, -5.6129, -5.6527, -4.3744, -4.9737, -4.7894, -5.3122, -4.4313, -4.6643, -3.8895, -5.0051, -4.8091, -4.7847, -4.9519, -4.6779, -5.3586, -5.3567, -5.3711, -5.3083, -5.3817, -6.9914, -7.7399, -7.7947, -8.2133, -8.212, -8.3695, -8.3397, -5.2215, -8.5893, -8.6158, -7.7162, -8.6923, -8.8023, -8.7482, -8.8617, -8.8467, -5.6378, -8.8958, -8.2854, -8.4367, -8.9302, -8.9518, -8.9625, -9.0041, -9.0988, -9.1186, -8.9636, -9.1116, -9.0981, -9.1469, -9.0829, -5.2144, -4.3625, -3.7713, -3.4597, -3.7957, -2.3754, -2.379, -6.1161, -3.4053, -4.9554, -2.9957, -3.1277, -5.407, -4.0021, -4.8367, -3.8296, -4.8042, -6.8536, -4.6437, -5.2587, -3.8205, -3.3073, -6.0305, -4.1426, -5.0521, -5.2415, -5.8759, -5.6385, -5.458, -4.1773, -4.598, -5.2533, -5.3044, -5.0674, -4.964, -5.1403, -5.034, -5.3201, -5.8688, -5.6473, -5.9767, -6.033, -6.0865, -6.1534, -6.1797, -6.3127, -6.3228, -5.5119, -6.6897, -6.788, -6.8238, -7.001, -7.0105, -7.057, -6.6999, -6.8567, -7.0939, -5.6785, -6.0173, -7.1872, -7.1693, -7.0501, -7.203, -7.2307, -7.1347, -7.2618, -7.2664, -5.033, -5.3314, -6.7007, -7.0266, -5.6961, -6.758, -5.7497, -5.0188, -6.1572, -5.6797, -5.7076, -4.1262, -6.1851, -5.3794, -4.4722, -5.9666, -5.5295, -5.8933, -5.7268, -5.264, -4.9603, -4.3594, -5.3687, -4.9703, -5.0329, -4.4172, -5.3094, -5.3195, -5.0648, -4.8904, -4.664, -5.0034, -5.1489, -3.7872, -3.9424, -5.3888, -4.6216, -4.4687, -4.5785, -5.0178, -5.1559, -4.8962, -5.2636, -5.3152, -4.7703, -5.9322, -5.7753, -6.5905, -6.8951, -6.9896, -7.0614, -7.0677, -7.1161, -7.1411, -7.0975, -7.2128, -7.2351, -6.8439, -7.3518, -7.421, -7.3269, -7.5392, -7.5514, -7.5687, -7.4558, -7.608, -7.6037, -7.6431, -7.6441, -7.6795, -7.7396, -7.7477, -7.7511, -7.7557, -6.6289, -6.5915, -7.236, -5.9822, -6.3606, -5.8217, -4.909, -6.1013, -6.42, -6.447, -6.8678, -6.9597, -6.0189, -6.3758, -3.4815, -3.5653, -4.9094, -5.0983, -5.0602, -5.7578, -6.3562, -5.4556, -5.5364, -5.2235, -6.4215, -5.3244, -5.2069, -5.6228, -5.8506, -4.4052, -5.5004, -5.5922, -5.2938, -5.9959, -5.6837, -5.2364, -5.8631, -3.5717, -4.9847, -5.502, -4.6857, -5.3083, -4.6156, -4.845, -4.8807, -4.8067, -4.8338, -5.1422, -4.7943, -5.4029, -5.2561, -5.2291, -5.4846, -4.5835, -4.6562, -5.0444, -5.0951, -5.0994, -5.1028, -5.2432, -5.2895, -5.2972, -5.3586, -5.4627, -5.4949, -5.5013, -5.5072, -5.5881, -5.6309, -5.6567, -5.7289, -5.7772, -5.8022, -5.8992, -5.9265, -6.0012, -5.9763, -6.0647, -6.0658, -6.0801, -6.0977, -6.1226, -6.1329, -5.9792, -5.594, -5.6792, -5.8717, -5.9693], \"loglift\": [30.0, 29.0, 28.0, 27.0, 26.0, 25.0, 24.0, 23.0, 22.0, 21.0, 20.0, 19.0, 18.0, 17.0, 16.0, 15.0, 14.0, 13.0, 12.0, 11.0, 10.0, 9.0, 8.0, 7.0, 6.0, 5.0, 4.0, 3.0, 2.0, 1.0, 1.3938, 1.3934, 1.3933, 1.3926, 1.3906, 1.3904, 1.3903, 1.3898, 1.3898, 1.3898, 1.3887, 1.3879, 1.3875, 1.3874, 1.3861, 1.3861, 1.386, 1.3859, 1.3844, 1.384, 1.3837, 1.3836, 1.3833, 1.3822, 1.3822, 1.3821, 1.3813, 1.3812, 1.3812, 1.3809, 1.3798, 1.3518, 1.3321, 1.3415, 1.3523, 1.3537, 1.3283, 1.3037, 1.2343, 1.3513, 1.0803, 1.2045, 1.0754, 1.1663, 1.1735, 0.9124, 0.8939, 0.9322, 1.0384, 1.1642, 1.1742, 0.9136, 1.0828, 1.1104, 0.3889, 0.8571, 1.1381, 0.6208, 0.2372, 0.9732, 0.9879, 0.3109, 0.5915, 0.4369, 0.7218, 0.0595, 0.176, -0.4935, 0.1582, -0.1834, -0.2381, -0.0742, -0.723, 0.5572, 0.5283, 0.5521, 0.2613, 0.2853, 1.3891, 1.3823, 1.3811, 1.3737, 1.3736, 1.3699, 1.3695, 1.3695, 1.3641, 1.3637, 1.3628, 1.3606, 1.3573, 1.3555, 1.3553, 1.3551, 1.3533, 1.3531, 1.3514, 1.3508, 1.3507, 1.3504, 1.3488, 1.3487, 1.3438, 1.3436, 1.3434, 1.3431, 1.3402, 1.34, 1.3397, 1.2584, 1.176, 1.1064, 1.0869, 1.0961, 1.0194, 1.017, 1.1999, 1.0436, 1.1025, 0.9592, 0.9227, 1.0695, 0.9098, 0.9815, 0.8557, 0.9573, 1.1737, 0.9207, 0.9869, 0.8053, 0.7122, 1.0767, 0.6977, 0.8329, 0.8447, 0.9695, 0.9133, 0.8372, 0.3136, 0.4493, 0.6906, 0.7124, 0.4979, -0.0994, 0.2004, -0.1473, 1.4251, 1.4244, 1.4244, 1.4241, 1.4241, 1.4239, 1.4238, 1.4237, 1.4233, 1.4232, 1.4232, 1.4217, 1.4211, 1.4211, 1.42, 1.4196, 1.4196, 1.4196, 1.4195, 1.4194, 1.4191, 1.4188, 1.4186, 1.4186, 1.4185, 1.4184, 1.4183, 1.4182, 1.4181, 1.418, 1.383, 1.3879, 1.4083, 1.4131, 1.3642, 1.4027, 1.3347, 1.2497, 1.3432, 1.299, 1.2938, 1.1131, 1.336, 1.2412, 1.1094, 1.2807, 1.1932, 1.2603, 1.2277, 1.132, 1.0207, 0.8271, 1.0984, 0.9717, 0.9905, 0.746, 1.0515, 1.0229, 0.8914, 0.7187, 0.5623, 0.7727, 0.8055, -0.3911, -0.5477, 0.9576, -0.1307, -0.5138, -0.559, 0.2103, 0.4137, -0.4473, 0.5492, 0.6533, 1.57, 1.5685, 1.5681, 1.5661, 1.5643, 1.5636, 1.5631, 1.5629, 1.5626, 1.5624, 1.5624, 1.5618, 1.5615, 1.5609, 1.5604, 1.5596, 1.5591, 1.5581, 1.558, 1.5579, 1.5575, 1.5573, 1.5573, 1.5568, 1.5566, 1.5561, 1.5554, 1.5552, 1.5551, 1.5544, 1.5534, 1.5527, 1.5501, 1.5362, 1.5403, 1.5235, 1.4839, 1.5196, 1.5287, 1.5216, 1.5323, 1.536, 1.4823, 1.4976, 1.2909, 1.2971, 1.376, 1.3873, 1.3779, 1.4318, 1.4794, 1.3724, 1.3499, 1.2814, 1.456, 1.2179, 1.1596, 1.2119, 1.2685, 0.8229, 1.1627, 1.1216, 0.9667, 1.2832, 1.1097, 0.8433, 1.2078, -0.1769, 0.6823, 0.9804, 0.2262, 0.6602, -0.1248, -0.0048, 0.0111, -0.1809, -0.3848, 0.0443, -0.8394, 0.6139, 0.0472, -0.3645, 0.5082, 2.8703, 2.8701, 2.8689, 2.8687, 2.8686, 2.8685, 2.868, 2.8678, 2.8678, 2.8674, 2.8669, 2.8667, 2.8667, 2.8666, 2.8658, 2.8658, 2.8657, 2.8651, 2.8648, 2.8646, 2.8637, 2.8635, 2.8628, 2.8627, 2.8621, 2.8621, 2.862, 2.8616, 2.8615, 2.8612, 2.8561, 2.1353, 1.3628, -0.985, 0.6788]}, \"token.table\": {\"Topic\": [1, 2, 4, 1, 3, 4, 1, 2, 4, 1, 2, 4, 1, 3, 1, 4, 3, 5, 1, 2, 3, 4, 2, 3, 4, 5, 1, 2, 3, 4, 3, 1, 2, 3, 4, 2, 3, 4, 3, 3, 2, 1, 2, 3, 4, 5, 1, 1, 2, 3, 4, 1, 2, 3, 4, 5, 1, 3, 4, 5, 3, 4, 2, 1, 1, 3, 4, 1, 2, 5, 4, 5, 5, 5, 5, 1, 3, 5, 1, 2, 3, 4, 5, 3, 1, 2, 3, 4, 5, 5, 4, 3, 4, 3, 1, 2, 3, 4, 1, 3, 4, 2, 1, 4, 4, 1, 2, 3, 4, 4, 1, 4, 1, 2, 3, 4, 5, 5, 5, 3, 4, 5, 4, 5, 1, 2, 3, 4, 1, 1, 3, 4, 1, 2, 4, 1, 1, 3, 4, 4, 4, 1, 2, 4, 1, 3, 1, 3, 4, 2, 1, 2, 3, 4, 1, 2, 4, 1, 2, 4, 1, 3, 4, 1, 2, 3, 4, 1, 3, 4, 1, 2, 3, 4, 1, 2, 3, 4, 4, 1, 4, 2, 1, 3, 1, 2, 3, 4, 5, 2, 5, 2, 4, 5, 1, 2, 3, 4, 4, 1, 3, 4, 2, 3, 4, 1, 2, 3, 4, 5, 5, 2, 4, 4, 1, 5, 1, 2, 3, 4, 1, 1, 3, 4, 1, 2, 3, 4, 4, 5, 1, 2, 3, 4, 1, 1, 2, 3, 4, 2, 1, 3, 4, 1, 4, 4, 1, 5, 1, 2, 3, 4, 1, 2, 3, 4, 1, 1, 5, 4, 1, 2, 3, 4, 2, 5, 1, 3, 4, 2, 1, 3, 4, 3, 3, 2, 1, 4, 1, 2, 4, 1, 5, 5, 3, 5, 2, 1, 5, 4, 2, 3, 2, 2, 1, 3, 2, 3, 4, 1, 1, 4, 5, 1, 3, 4, 2, 2, 1, 3, 4, 2, 1, 2, 3, 4, 1, 2, 3, 4, 1, 2, 3, 4, 5, 1, 2, 3, 1, 2, 3, 4, 3, 1, 2, 3, 4, 5, 1, 2, 3, 4, 2, 4, 1, 3, 4, 1, 3, 4, 1, 2, 3, 4, 3, 1, 2, 3, 4, 5, 1, 3, 4, 5, 3, 2, 1, 3, 2, 1, 3, 5, 3, 4, 5, 1, 2, 3, 4, 1, 2, 3, 4, 1, 4, 2, 3, 3, 1, 2, 3, 4, 4, 1, 3, 4, 1, 2, 1, 3, 1, 2, 3, 4, 5, 3, 3, 1, 2, 3, 4, 1, 2, 3, 4, 5, 1, 2, 3, 4, 5, 2, 2, 2, 2, 3, 5, 2, 3, 5, 1, 2, 3, 4, 5, 2, 3, 1, 3, 4, 5, 1, 2, 3, 4, 1, 2, 3, 4, 4, 2, 3, 4, 1, 1, 3, 1, 2, 3, 4, 2, 1, 2, 3, 4, 2, 3, 4, 5, 1, 2, 3, 4, 5, 5, 1, 3, 1, 3, 4, 2, 4, 3, 1, 3, 1, 2, 3, 4, 3, 4, 4, 5, 4, 1, 3, 1, 2, 3, 4, 1, 2, 3, 4, 5, 3, 3, 1, 4, 5, 3, 4, 5, 3, 1, 2, 3, 4, 1, 3, 2, 3, 4, 1, 1, 3, 4, 1, 2, 3, 4, 1, 2, 3, 4, 1, 3, 4, 1, 1, 1, 2, 3, 4, 5, 1, 2, 3, 4, 1, 4, 5, 2, 1, 3, 4, 3, 4, 5, 1, 3, 4, 1, 2, 3, 4, 5, 4, 4, 1, 2, 3, 4, 3, 1, 2, 3, 4, 4, 1, 3, 4, 3, 2, 1, 3, 4, 1, 3, 4, 1, 2, 3, 4, 5, 1, 2, 5, 2, 3, 4, 1, 3, 3, 4, 4, 3, 4, 4, 1, 1, 1, 2, 1, 1, 1, 2, 3, 4, 1, 2, 3, 4, 1, 3, 1, 2, 3, 4, 1, 3, 1, 2, 3, 4, 1, 3, 4, 1, 1, 2, 3, 4, 3, 1, 2, 3, 4], \"Freq\": [0.8520293754369652, 0.12252323250085284, 0.025349634310521278, 0.996314995541272, 0.01248864347749048, 0.9803585129830027, 0.010911614538201199, 0.8210989939996403, 0.1664021217075683, 0.6058598689310332, 0.3880099300326831, 0.0059259698404991595, 0.08655845090001416, 0.9131916569951494, 0.011864882605776013, 0.9847852562794092, 0.9988331077639829, 0.9889554288973149, 0.19046461428948, 0.8029028897772027, 0.0013835202006499759, 0.0055340808025999035, 0.5051727588217805, 0.11011129352816423, 0.3839015368954915, 0.0007439952265416502, 0.08771611415912989, 0.5765340957913719, 0.001594838439256907, 0.33411865302432203, 0.9925205606961719, 0.36966335352862134, 0.6173759100168728, 0.010162566420030827, 0.002540641605007707, 0.006336794311301635, 0.9399578228430759, 0.05280661926084696, 0.9927934682803905, 0.9922286376181876, 0.9750254662556325, 0.7300815562569025, 0.21364137706135167, 0.016101206145231226, 0.018985004260795028, 0.021147852847467882, 0.9869180232618666, 0.6172290603608289, 0.2242332534593415, 0.01410272034335481, 0.1443178381803309, 0.180874234240439, 0.1587827247148892, 0.6344405391868833, 0.024852948216243523, 0.9968619208105081, 0.009565256359216966, 0.07652205087373573, 0.8895688414071778, 0.019130512718433933, 0.9930066874173485, 0.006092065566977598, 0.9849466568382638, 0.9965144798777131, 0.015575374441340424, 0.880008655935734, 0.1031868556738803, 0.9466149067919407, 0.041457587158771125, 0.010364396789692781, 0.9597690496961191, 0.03226114452760064, 0.9918737984470756, 0.9947801273851101, 0.9843857995776021, 0.0354885318525862, 0.9570813433994341, 0.0066540997223599125, 0.0517124836669004, 0.10750753183381925, 0.8314823031704248, 0.004082564500018452, 0.005443419333357937, 0.9967096545019518, 0.03651313796074766, 0.005617405840115025, 0.0028087029200575125, 0.9549589928195542, 0.9945102449887739, 0.988249170116559, 0.9951860173292064, 0.9960675658053116, 0.9953673783282129, 0.9972459320634989, 0.13630681058582583, 0.6525688556796412, 0.192533369952479, 0.018742186455551053, 0.10695768027745452, 0.19000717319877214, 0.7021457128802309, 0.9965200995854239, 0.033399391482223074, 0.9652424138362469, 0.9818642467869596, 0.800583031489207, 0.1830855165567833, 0.013315310295038785, 0.0016644137868798482, 0.9934634836419457, 0.9602595733585758, 0.04001081555660732, 0.3837281733530406, 0.14107157120630692, 0.4211897628360551, 0.040836507454457265, 0.013162180088626721, 0.9875835186581713, 0.9987043933811798, 0.9901536267181078, 0.008391132429814473, 0.9934041195698646, 0.9673243727998655, 0.026623606590821986, 0.12531186878698405, 0.0702505931078547, 0.25821839628833076, 0.5468154274341122, 0.9865038424710095, 0.18844979863192668, 0.2571924924725037, 0.5534972073025771, 0.11074577401558534, 0.7210256776333854, 0.16729680755545873, 0.9926209298690534, 0.052524298565262105, 0.029544917942959933, 0.915892456231758, 0.9833254637107677, 0.9857096974782926, 0.9852400943292172, 0.33669472568011455, 0.6628347577652411, 0.006152019004978868, 0.9935510693040871, 0.96147110106775, 0.03641935988892993, 0.9973994762715098, 0.928754851884102, 0.6180657802576237, 0.34282376280691257, 0.031333354665147924, 0.007372554038858335, 0.2954636030154291, 0.49756254265564115, 0.20691628099372444, 0.033339975556456576, 0.033339975556456576, 0.9287564619298618, 0.09829633891634126, 0.07785848627036931, 0.8223802612307759, 0.0910300208722078, 0.14834521919915344, 0.06237242170873497, 0.6978968266869264, 0.752357438831665, 0.04906678948902163, 0.1980844464556799, 0.0874767012861894, 0.04760796343457493, 0.10459680636364738, 0.7603202830290242, 0.32207621177081747, 0.2150346347421115, 0.36298988121290066, 0.09990547189345889, 0.9925770015615392, 0.9852328425466307, 0.9892213267319344, 0.9765609675052015, 0.9393384094181625, 0.05999766287700838, 0.5842079998511505, 0.18150151451686228, 0.006380912619733439, 0.22758588343715933, 0.9846188703267676, 0.968863916862767, 0.032295463895425564, 0.9445229587446019, 0.027780087021900053, 0.9920986071439862, 0.04854851521063592, 0.7410290779414478, 0.00024153490154545234, 0.21013536434454352, 0.9838910939495431, 0.1085102978097828, 0.7912209215296663, 0.0994677729923009, 0.2871088350214879, 0.6660924972498519, 0.046655185690991786, 0.4611186767522707, 0.13086292881744283, 0.18991528109718026, 0.21798337446470978, 0.000364520693084799, 0.9834811580494826, 0.36880929073676916, 0.6308579973128946, 0.9941730178720315, 0.934105594140278, 0.05994260497156865, 0.009302824139656746, 0.7457764018624824, 0.22481825004170466, 0.02015611896925628, 0.9957495232720439, 0.14400342219834328, 0.035163626350758245, 0.8204846148510256, 0.02600781294545665, 0.0021673177454547207, 0.05526660250909538, 0.9167754063273469, 0.9795475709765035, 0.012974140012933821, 0.15132956579896703, 0.6847716975996176, 0.16242490234717458, 0.0015154606017063939, 0.9942455041995432, 0.23004420383662527, 0.7487152969589543, 0.0011907049888024083, 0.019765702814119976, 0.9839757609440328, 0.19576462635403996, 0.6676604098811467, 0.134974558170417, 0.008103695338222777, 0.9886508312631788, 0.9836084964748343, 0.9926764148511819, 0.9933228953249211, 0.29694343893563174, 0.040087364256310286, 0.49292610863314873, 0.17024757165642887, 0.0006486424687613122, 0.6863718390275951, 0.13886354185398422, 0.17410644932334887, 0.9920928938562654, 0.012463177336747533, 0.9845910096030551, 0.9852085970931757, 0.36560762652375184, 0.623126185450906, 0.002395037143277212, 0.008851224225154915, 0.9700853486057466, 0.015903038501733552, 0.21133263023073554, 0.09179094040324877, 0.6959034086385837, 0.9270381167883898, 0.9875535119009774, 0.9142292533967573, 0.08372062760043565, 0.996339774921364, 0.9971519515404947, 0.9511983262610506, 0.02937477331953481, 0.9693675195446488, 0.23341946980386966, 0.6449293499025436, 0.12160866204596665, 0.9820324738893523, 0.011690862784397052, 0.9980187586328387, 0.9826630875373198, 0.012057215798003923, 0.9531098118978119, 0.9570788844682134, 0.039117665577719896, 0.9747972459806981, 0.9736153387841043, 0.025099988381137018, 0.97966660259921, 0.9230681567753368, 0.019045523475732812, 0.9776702050876177, 0.9578718238483274, 0.03941859357400524, 0.001970929678700262, 0.9869226088872757, 0.477017442218812, 0.3007283874857728, 0.22191681007570818, 0.18207291594904784, 0.7201217252600162, 0.09687212835750622, 0.9327451505577262, 0.9733914302949276, 0.014354330507596, 0.8382929016436064, 0.14737112654465226, 0.974786562482918, 0.12939959832508635, 0.10442774601673635, 0.5490564410134616, 0.2172875460596688, 0.2299471805659678, 0.18626328346636442, 0.4156037432392822, 0.168061659674863, 0.2867372271556322, 0.37905262711793336, 0.07273334542484329, 0.14966284539342756, 0.11189745449975892, 0.33514921850531054, 0.5720142087099436, 0.09238717460263693, 0.5101839970112815, 0.06661156044064209, 0.4004263121943144, 0.023465436064317103, 0.9889999949552248, 0.4476106646855144, 0.40734938796776976, 0.009473241580645808, 0.13499369252420276, 0.9897885636088384, 0.30432889361852355, 0.2469494602155084, 0.10313771573706526, 0.34572924430171176, 0.9522194721900533, 0.9839296370417916, 0.0789459049984658, 0.8633116707896743, 0.056026126127943464, 0.7003551942336558, 0.17387008302320456, 0.12593393863830238, 0.03486059974078223, 0.19252558493204733, 0.2899768069346886, 0.48329467822448097, 0.9904361264560396, 0.11039212639201934, 0.04994439893075826, 0.08381227460054284, 0.7555965932657634, 0.9977403052673505, 0.0024038342092297816, 0.11057637362456996, 0.8701879837411809, 0.019230673673838253, 0.9907319950137984, 0.981044880768091, 0.006578215930608612, 0.9933106055219004, 0.9726528187332638, 0.9957530623331428, 0.9926095214680967, 0.9964141209575768, 0.16764692126450875, 0.8322896800365683, 0.9854636301806379, 0.19530205876952608, 0.7343494223785858, 0.0670388853219389, 0.0032493337273388754, 0.794832610766518, 0.029495741415163753, 0.16921241127646575, 0.006209629771613422, 0.9952321504177476, 0.9963608467046912, 0.9662810524442245, 0.996172039352774, 0.9972469477847032, 0.6560432000601558, 0.09991840321557484, 0.1406745940008751, 0.1025478348791426, 0.977958477166167, 0.1162440909521942, 0.7309701954582094, 0.15282679016362002, 0.9845600781763251, 0.005967030776826213, 0.07871972286498524, 0.9183967667581611, 0.43245703171813565, 0.15670682486831355, 0.2750776453697006, 0.135184857504425, 0.9963216036368457, 0.9976368357789823, 0.9930808883039847, 0.15028043854152082, 0.26700989545516723, 0.5375146848299047, 0.04543362095441327, 0.29812066118596336, 0.49387042247512264, 0.0006916952695730008, 0.20612519033275425, 0.9963099412326564, 0.12370873488927049, 0.14432685737081558, 0.07010161643725328, 0.18556310233390574, 0.4783404415718459, 0.9775756518934078, 0.9855546074282096, 0.944024048415946, 0.7261351838054001, 0.2435209457883964, 0.02877974813862866, 0.7999443353835635, 0.13887922489297977, 0.0611068589529111, 0.3141870936787297, 0.5047993150365194, 0.1373054136899333, 0.04371562068216259, 0.9949422958649281, 0.977903363635461, 0.9988413521965946, 0.956258791586035, 0.029154231450793752, 0.00583084629015875, 0.9934013586945855, 0.0022401650831452573, 0.23745749881339726, 0.022401650831452572, 0.7392544774379348, 0.0018614473608759717, 0.7031617405708983, 0.15356940727226767, 0.14146999942657384, 0.9980753966373052, 0.6151180021620463, 0.12420651966733627, 0.2604886731912191, 0.9928279788606749, 0.998834856387494, 0.0007952506818371768, 0.0035213848656005606, 0.8721296517137388, 0.0046951798208007475, 0.12090088038561925, 0.9428020665183107, 0.20640928674921144, 0.5540654665833092, 0.06608799584705694, 0.17345784904395614, 0.3209135805676029, 0.01277974435888684, 0.6645467066621157, 0.001419971595431871, 0.26301661648624125, 0.3388805729020144, 0.2107691582297493, 0.18343225282619777, 0.0038821640809777306, 0.996163989353711, 0.12346592344509433, 0.8762097792877662, 0.0056687143672229925, 0.17006143101668977, 0.8242310689942232, 0.19703413843724785, 0.8023372123750994, 0.9988211426065337, 0.9950113077092401, 0.004288841843574311, 0.7938956864450732, 0.17979402310667836, 0.014009923878442469, 0.011674936565368724, 0.9970451553540121, 0.0018636358044000227, 0.9959678539270792, 0.9958751874571191, 0.9944484355108331, 0.7325311635381255, 0.2673584204474593, 0.1462156781117209, 0.1684404611847025, 0.5199429513652796, 0.16493128491002118, 0.12029074321235136, 0.6463143079442545, 0.14366746514268244, 0.08981582636390358, 0.9957404828426639, 0.993338097915504, 0.9943890272093018, 0.9866963917428405, 0.982794671715341, 0.9886027251255459, 0.9977878081450049, 0.9910169283221865, 0.9876446785190635, 0.9935332155433683, 0.6650228017230029, 0.1902048514322576, 0.14161237113934508, 0.0027767131595950014, 0.8261149756495844, 0.17299819490073648, 0.24608038411242547, 0.0048488745637916345, 0.7479389014648596, 0.9977386478809719, 0.08255478793177455, 0.0045863771073208085, 0.9126890443568408, 0.3381540536587032, 0.5827803156023903, 0.06601961768118784, 0.012968139187376184, 0.13539533184247246, 0.0007088760829448821, 0.4614783299971182, 0.40193273902974813, 0.8017925900275512, 0.14857498473353983, 0.048671115688573394, 0.9878290965529964, 0.9922912752031239, 0.16165076751334748, 0.6606331366677559, 0.06832032438299969, 0.0860104083750264, 0.023790112954794534, 0.17028587843435916, 0.07618052456273963, 0.11651139050771943, 0.6378251762409769, 0.18928436702119986, 0.7492506194589161, 0.06046583946510551, 0.9783493027129814, 0.18294186667068044, 0.7283974849282618, 0.08858237754580316, 0.02054347864617482, 0.9604076267086729, 0.015407608984631116, 0.1553408144197228, 0.6874880638170164, 0.15744001461458393, 0.6296113007048213, 0.3026977407234718, 0.0018918608795216985, 0.05372884897841624, 0.01210790962893887, 0.9878511826046636, 0.9927751789907822, 0.10379807904257397, 0.12645108000626276, 0.2961795349879309, 0.47334628879349694, 0.9965238779680817, 0.18740921461209833, 0.621857848485599, 0.08613251782677246, 0.10458948593250943, 0.9879542708876462, 0.036046645389768345, 0.9627458206183963, 0.9870490422794147, 0.9980862055637909, 0.9751736096046927, 0.02470322326934689, 0.8190068637760392, 0.15392008344746907, 0.11631919929028885, 0.7446602945219426, 0.13806110569968863, 0.29023903569156734, 0.110582340017857, 0.5063340382479526, 0.09252161399774854, 0.9933144267392713, 0.9134437614352594, 0.08269861214640209, 0.9833602568286348, 0.6640411376415817, 0.022446460990701352, 0.3123799154539271, 0.995380134905172, 0.004013629576230532, 0.04715027897355573, 0.9534834192430159, 0.9993360927234011, 0.048102763991218836, 0.9509546419802493, 0.9880620746885036, 0.9976033931415579, 0.9971125989798102, 0.9924984124552388, 0.9686641936424459, 0.9785676952511084, 0.9957731320888488, 0.42060292214702827, 0.5692811643943498, 0.008477268198312198, 0.0019562926611489686, 0.726717620151656, 0.20147264402787274, 0.043770414676981936, 0.028965715595061576, 0.3527375097706492, 0.6463109786243529, 0.18931121274465942, 0.17896633773129006, 0.6258649383088467, 0.00620692500802162, 0.7740642349670327, 0.22605415711426619, 0.2450749788421039, 0.09242827773473633, 0.5853790923199969, 0.07702356477894695, 0.15073401552348056, 0.8464294717856985, 0.9868716896629025, 0.9857181080939883, 0.3298444730051405, 0.19717253076300928, 0.06187861337775291, 0.41112570244201935, 0.9961954344485536, 0.43021595926196976, 0.20934918332590338, 0.1883465144485474, 0.1720863837047879], \"Term\": [\"absolutely\", \"absolutely\", \"absolutely\", \"accommodate\", \"accompany\", \"accompany\", \"affordable\", \"affordable\", \"affordable\", \"amaze\", \"amaze\", \"amaze\", \"arrive\", \"arrive\", \"artichokes\", \"artichokes\", \"ask\", \"atenci\\u00f3n\", \"atmosphere\", \"atmosphere\", \"atmosphere\", \"atmosphere\", \"attention\", \"attention\", \"attention\", \"attention\", \"attentive\", \"attentive\", \"attentive\", \"attentive\", \"attitude\", \"authentic\", \"authentic\", \"authentic\", \"authentic\", \"average\", \"average\", \"average\", \"avoid\", \"awful\", \"bang\", \"barcelona\", \"barcelona\", \"barcelona\", \"barcelona\", \"barcelona\", \"bartender\", \"best\", \"best\", \"best\", \"best\", \"better\", \"better\", \"better\", \"better\", \"bien\", \"black\", \"black\", \"black\", \"black\", \"bland\", \"bland\", \"breathtaking\", \"brilliant\", \"bring\", \"bring\", \"bring\", \"brunch\", \"brunch\", \"brunch\", \"brutal\", \"brutal\", \"buen\", \"buena\", \"bueno\", \"burger\", \"burger\", \"burger\", \"burgers\", \"burgers\", \"burgers\", \"burgers\", \"burgers\", \"burn\", \"cake\", \"cake\", \"cake\", \"cake\", \"calidad\", \"cal\\u00e7ots\", \"cannelloni\", \"card\", \"carte\", \"charge\", \"cheap\", \"cheap\", \"cheap\", \"cheap\", \"cheese\", \"cheese\", \"cheese\", \"chilean\", \"chocolate\", \"chocolate\", \"christmas\", \"city\", \"city\", \"city\", \"city\", \"clam\", \"cocktail\", \"cocktail\", \"come\", \"come\", \"come\", \"come\", \"come\", \"comer\", \"comida\", \"comment\", \"comment\", \"como\", \"congratulations\", \"congratulations\", \"cook\", \"cook\", \"cook\", \"cook\", \"counter\", \"course\", \"course\", \"course\", \"cozy\", \"cozy\", \"cozy\", \"craft\", \"cream\", \"cream\", \"cream\", \"creamy\", \"creativity\", \"creme\", \"cuisine\", \"cuisine\", \"customers\", \"customers\", \"cute\", \"cute\", \"daily\", \"deer\", \"definitely\", \"definitely\", \"definitely\", \"definitely\", \"delicious\", \"delicious\", \"delicious\", \"delight\", \"delight\", \"delight\", \"dessert\", \"dessert\", \"dessert\", \"desserts\", \"desserts\", \"desserts\", \"desserts\", \"din\", \"din\", \"din\", \"dish\", \"dish\", \"dish\", \"dish\", \"drink\", \"drink\", \"drink\", \"drink\", \"duck\", \"dumplings\", \"elaborate\", \"energy\", \"english\", \"english\", \"enjoy\", \"enjoy\", \"enjoy\", \"enjoy\", \"espectacular\", \"events\", \"events\", \"excelent\", \"excelent\", \"excelente\", \"excellent\", \"excellent\", \"excellent\", \"excellent\", \"execute\", \"expect\", \"expect\", \"expect\", \"expensive\", \"expensive\", \"expensive\", \"experience\", \"experience\", \"experience\", \"experience\", \"experience\", \"experiencia\", \"exquisite\", \"exquisite\", \"extensive\", \"familia\", \"familia\", \"fast\", \"fast\", \"fast\", \"fast\", \"favourite\", \"fish\", \"fish\", \"fish\", \"flavor\", \"flavor\", \"flavor\", \"flavor\", \"foie\", \"foie\", \"food\", \"food\", \"food\", \"food\", \"forward\", \"friendly\", \"friendly\", \"friendly\", \"friendly\", \"frills\", \"fry\", \"fry\", \"fry\", \"gastronomic\", \"gastronomic\", \"gastronomy\", \"glad\", \"glovo\", \"go\", \"go\", \"go\", \"go\", \"good\", \"good\", \"good\", \"good\", \"gothic\", \"gracias\", \"gracias\", \"gras\", \"great\", \"great\", \"great\", \"great\", \"greek\", \"greek\", \"grill\", \"grill\", \"grill\", \"grow\", \"gyoza\", \"half\", \"half\", \"hamburger\", \"hamburgers\", \"helpfull\", \"highlight\", \"highlight\", \"highly\", \"highly\", \"highly\", \"historical\", \"historical\", \"history\", \"horrible\", \"horrible\", \"hospitable\", \"hotel\", \"hotel\", \"iberico\", \"indian\", \"indian\", \"inexpensive\", \"instant\", \"instead\", \"instead\", \"italian\", \"italian\", \"italian\", \"japan\", \"japanese\", \"japanese\", \"japanese\", \"know\", \"know\", \"know\", \"korma\", \"lassi\", \"leave\", \"leave\", \"leave\", \"lick\", \"like\", \"like\", \"like\", \"like\", \"little\", \"little\", \"little\", \"little\", \"local\", \"local\", \"local\", \"local\", \"local\", \"location\", \"location\", \"location\", \"look\", \"look\", \"look\", \"look\", \"loud\", \"love\", \"love\", \"love\", \"love\", \"lugar\", \"lunch\", \"lunch\", \"lunch\", \"lunch\", \"maharaja\", \"material\", \"maybe\", \"maybe\", \"maybe\", \"meal\", \"meal\", \"meal\", \"meat\", \"meat\", \"meat\", \"meat\", \"mediocre\", \"menu\", \"menu\", \"menu\", \"menu\", \"men\\u00fa\", \"michelin\", \"michelin\", \"michelin\", \"michelin\", \"milkshake\", \"milkshakes\", \"minutes\", \"minutes\", \"mirabe\", \"miso\", \"mistake\", \"molt\", \"money\", \"money\", \"mucho\", \"nice\", \"nice\", \"nice\", \"nice\", \"night\", \"night\", \"night\", \"night\", \"nights\", \"noon\", \"north\", \"obviously\", \"okay\", \"options\", \"options\", \"options\", \"options\", \"orange\", \"order\", \"order\", \"order\", \"outdoor\", \"outdoor\", \"overprice\", \"overprice\", \"paella\", \"paella\", \"paella\", \"paella\", \"para\", \"pay\", \"peanuts\", \"people\", \"people\", \"people\", \"people\", \"perfect\", \"perfect\", \"perfect\", \"perfect\", \"pero\", \"personal\", \"personal\", \"personal\", \"personal\", \"personal\", \"personalize\", \"piano\", \"pitcher\", \"pizza\", \"pizza\", \"pizza\", \"pizzas\", \"pizzas\", \"pizzas\", \"place\", \"place\", \"place\", \"place\", \"platos\", \"poblenou\", \"poor\", \"popular\", \"popular\", \"popular\", \"precio\", \"presentation\", \"presentation\", \"presentation\", \"presentation\", \"price\", \"price\", \"price\", \"price\", \"product\", \"quality\", \"quality\", \"quality\", \"quarter\", \"ramen\", \"ramen\", \"reasonable\", \"reasonable\", \"reasonable\", \"reasonable\", \"recomended\", \"recommend\", \"recommend\", \"recommend\", \"recommend\", \"repeat\", \"repeat\", \"repeat\", \"repeat\", \"restaurant\", \"restaurant\", \"restaurant\", \"restaurant\", \"restaurant\", \"restaurante\", \"review\", \"review\", \"rice\", \"rice\", \"rice\", \"rich\", \"rich\", \"rude\", \"sagrada\", \"sagrada\", \"sangria\", \"sangria\", \"sangria\", \"sangria\", \"say\", \"say\", \"scallop\", \"school\", \"seasonal\", \"seat\", \"seat\", \"serve\", \"serve\", \"serve\", \"serve\", \"service\", \"service\", \"service\", \"service\", \"servicio\", \"shake\", \"shame\", \"shoyu\", \"sirloin\", \"sitio\", \"slow\", \"snail\", \"solo\", \"sorry\", \"spanish\", \"spanish\", \"spanish\", \"spanish\", \"speak\", \"speak\", \"spectacular\", \"spectacular\", \"spectacular\", \"spot\", \"squid\", \"squid\", \"squid\", \"staff\", \"staff\", \"staff\", \"staff\", \"star\", \"star\", \"star\", \"star\", \"stay\", \"stay\", \"stay\", \"stumble\", \"stun\", \"super\", \"super\", \"super\", \"super\", \"super\", \"surprise\", \"surprise\", \"surprise\", \"surprise\", \"sushi\", \"sushi\", \"sushi\", \"swad\", \"table\", \"table\", \"table\", \"tacos\", \"tacos\", \"tacos\", \"take\", \"take\", \"take\", \"tapas\", \"tapas\", \"tapas\", \"tapas\", \"tapas\", \"tarragona\", \"tartare\", \"taste\", \"taste\", \"taste\", \"taste\", \"tasteless\", \"tasty\", \"tasty\", \"tasty\", \"tasty\", \"tavern\", \"tell\", \"tell\", \"temperature\", \"terrible\", \"thankful\", \"thing\", \"thing\", \"thing\", \"think\", \"think\", \"think\", \"time\", \"time\", \"time\", \"time\", \"todo\", \"town\", \"town\", \"trato\", \"treatment\", \"treatment\", \"treatment\", \"trip\", \"trip\", \"truffle\", \"truffle\", \"value\", \"vary\", \"vary\", \"veal\", \"vegan\", \"vegetarian\", \"veggie\", \"venezuelan\", \"version\", \"vietnamese\", \"view\", \"view\", \"view\", \"view\", \"visit\", \"visit\", \"visit\", \"visit\", \"wait\", \"wait\", \"waiter\", \"waiter\", \"waiter\", \"waiter\", \"walk\", \"walk\", \"want\", \"want\", \"want\", \"want\", \"wasn\", \"wasn\", \"weekdays\", \"westville\", \"wine\", \"wine\", \"wine\", \"wine\", \"worst\", \"worth\", \"worth\", \"worth\", \"worth\"]}, \"R\": 30, \"lambda.step\": 0.01, \"plot.opts\": {\"xlab\": \"PC1\", \"ylab\": \"PC2\"}, \"topic.order\": [1, 4, 2, 3, 5]};\n",
              "\n",
              "function LDAvis_load_lib(url, callback){\n",
              "  var s = document.createElement('script');\n",
              "  s.src = url;\n",
              "  s.async = true;\n",
              "  s.onreadystatechange = s.onload = callback;\n",
              "  s.onerror = function(){console.warn(\"failed to load library \" + url);};\n",
              "  document.getElementsByTagName(\"head\")[0].appendChild(s);\n",
              "}\n",
              "\n",
              "if(typeof(LDAvis) !== \"undefined\"){\n",
              "   // already loaded: just create the visualization\n",
              "   !function(LDAvis){\n",
              "       new LDAvis(\"#\" + \"ldavis_el1701405370633617441426416772\", ldavis_el1701405370633617441426416772_data);\n",
              "   }(LDAvis);\n",
              "}else if(typeof define === \"function\" && define.amd){\n",
              "   // require.js is available: use it to load d3/LDAvis\n",
              "   require.config({paths: {d3: \"https://d3js.org/d3.v5\"}});\n",
              "   require([\"d3\"], function(d3){\n",
              "      window.d3 = d3;\n",
              "      LDAvis_load_lib(\"https://cdn.jsdelivr.net/gh/bmabey/pyLDAvis@3.3.1/pyLDAvis/js/ldavis.v3.0.0.js\", function(){\n",
              "        new LDAvis(\"#\" + \"ldavis_el1701405370633617441426416772\", ldavis_el1701405370633617441426416772_data);\n",
              "      });\n",
              "    });\n",
              "}else{\n",
              "    // require.js not available: dynamically load d3 & LDAvis\n",
              "    LDAvis_load_lib(\"https://d3js.org/d3.v5.js\", function(){\n",
              "         LDAvis_load_lib(\"https://cdn.jsdelivr.net/gh/bmabey/pyLDAvis@3.3.1/pyLDAvis/js/ldavis.v3.0.0.js\", function(){\n",
              "                 new LDAvis(\"#\" + \"ldavis_el1701405370633617441426416772\", ldavis_el1701405370633617441426416772_data);\n",
              "            })\n",
              "         });\n",
              "}\n",
              "</script>"
            ],
            "text/plain": [
              "PreparedData(topic_coordinates=              x         y  topics  cluster       Freq\n",
              "topic                                                \n",
              "0     -0.118013  0.055331       1        1  24.784940\n",
              "3     -0.139231  0.193471       2        1  24.764993\n",
              "1     -0.094479 -0.173674       3        1  24.013142\n",
              "2     -0.077359 -0.097335       4        1  20.782032\n",
              "4      0.429082  0.022207       5        1   5.654893, topic_info=           Term          Freq         Total Category  logprob  loglift\n",
              "7          good  18500.000000  18500.000000  Default  30.0000  30.0000\n",
              "30         food  18476.000000  18476.000000  Default  29.0000  29.0000\n",
              "31        great   9603.000000   9603.000000  Default  28.0000  28.0000\n",
              "13      service  10566.000000  10566.000000  Default  27.0000  27.0000\n",
              "11         nice   5847.000000   5847.000000  Default  26.0000  26.0000\n",
              "...         ...           ...           ...      ...      ...      ...\n",
              "552     gracias     78.915702     80.236361   Topic5  -5.9792   2.8561\n",
              "430    personal    116.007685    242.505107   Topic5  -5.5940   2.1353\n",
              "1343   japanese    106.530673    482.162663   Topic5  -5.6792   1.3628\n",
              "119   barcelona     87.872785   4161.178945   Topic5  -5.8717  -0.9850\n",
              "236       local     79.708097    714.940303   Topic5  -5.9693   0.6788\n",
              "\n",
              "[368 rows x 6 columns], token_table=      Topic      Freq         Term\n",
              "term                              \n",
              "612       1  0.852029   absolutely\n",
              "612       2  0.122523   absolutely\n",
              "612       4  0.025350   absolutely\n",
              "719       1  0.996315  accommodate\n",
              "658       3  0.012489    accompany\n",
              "...     ...       ...          ...\n",
              "813       3  0.996195        worst\n",
              "235       1  0.430216        worth\n",
              "235       2  0.209349        worth\n",
              "235       3  0.188347        worth\n",
              "235       4  0.172086        worth\n",
              "\n",
              "[648 rows x 3 columns], R=30, lambda_step=0.01, plot_opts={'xlab': 'PC1', 'ylab': 'PC2'}, topic_order=[1, 4, 2, 3, 5])"
            ]
          },
          "metadata": {},
          "execution_count": 21
        }
      ]
    },
    {
      "cell_type": "markdown",
      "metadata": {
        "id": "cbHWKz0pj99n"
      },
      "source": [
        "Preview del resultat:"
      ]
    },
    {
      "cell_type": "code",
      "metadata": {
        "colab": {
          "base_uri": "https://localhost:8080/"
        },
        "id": "DXs9CvW7j9PL",
        "outputId": "10f12ea4-b7ea-4fbb-e25e-e866dc6dffdf"
      },
      "source": [
        "R = lda_model.get_document_topics(corpus)\n",
        "weights = []  ## per cada comentari, una distribució de tòpics (ordenat)\n",
        "for elem in R:\n",
        "  weights.append(elem)\n",
        "weights[0]"
      ],
      "execution_count": null,
      "outputs": [
        {
          "output_type": "execute_result",
          "data": {
            "text/plain": [
              "[(0, 0.31552133),\n",
              " (1, 0.36968955),\n",
              " (2, 0.012982779),\n",
              " (3, 0.2892972),\n",
              " (4, 0.01250915)]"
            ]
          },
          "metadata": {},
          "execution_count": 70
        }
      ]
    },
    {
      "cell_type": "code",
      "metadata": {
        "id": "ofn_oyj_k1fv"
      },
      "source": [
        "print([w for w in weights])"
      ],
      "execution_count": null,
      "outputs": []
    },
    {
      "cell_type": "code",
      "metadata": {
        "colab": {
          "base_uri": "https://localhost:8080/"
        },
        "id": "xqniURPCGXUQ",
        "outputId": "3083e773-773f-4362-8473-dbc234fddfee"
      },
      "source": [
        "sum([val for (num, val) in weights[0]]) ## observem que no suma 1.. Serà problemes de precisió del LDA"
      ],
      "execution_count": null,
      "outputs": [
        {
          "data": {
            "text/plain": [
              "1.0000000121071935"
            ]
          },
          "execution_count": 198,
          "metadata": {},
          "output_type": "execute_result"
        }
      ]
    },
    {
      "cell_type": "markdown",
      "metadata": {
        "id": "mn04bkUXlSlC"
      },
      "source": [
        "Calculem les $r$"
      ]
    },
    {
      "cell_type": "code",
      "metadata": {
        "colab": {
          "base_uri": "https://localhost:8080/",
          "height": 245
        },
        "id": "16GdooDHlRuc",
        "outputId": "8fc3fc23-59ea-446a-dd5b-55bd639a8e40"
      },
      "source": [
        "r = []\n",
        "pos = 0\n",
        "for restaurant in data:\n",
        "  avg = np.zeros(num_topics)\n",
        "  i = 0\n",
        "  for review in restaurant['reviews_data']: # Iterem cada review\n",
        "    j = 0\n",
        "    try:\n",
        "      for elem in weights[pos+i]:\n",
        "        avg[elem[0]] += elem[1]\n",
        "        j += 1\n",
        "    except:\n",
        "      print(pos+i)\n",
        "    i += 1\n",
        "  if i == 0:\n",
        "    # If a restaurant has no reviews use uniform distribution\n",
        "    r.append((np.ones(num_topics)/num_topics).tolist())\n",
        "  else:\n",
        "    # Average topic scores\n",
        "    aux = [elem/i for elem in avg]\n",
        "    r.append([elem/sum(aux) for elem in aux])\n",
        "  pos += i"
      ],
      "execution_count": null,
      "outputs": [
        {
          "output_type": "error",
          "ename": "AttributeError",
          "evalue": "ignored",
          "traceback": [
            "\u001b[0;31m---------------------------------------------------------------------------\u001b[0m",
            "\u001b[0;31mAttributeError\u001b[0m                            Traceback (most recent call last)",
            "\u001b[0;32m<ipython-input-82-5b38a2bec0c1>\u001b[0m in \u001b[0;36m<module>\u001b[0;34m()\u001b[0m\n\u001b[1;32m     15\u001b[0m   \u001b[0;32mif\u001b[0m \u001b[0mi\u001b[0m \u001b[0;34m==\u001b[0m \u001b[0;36m0\u001b[0m\u001b[0;34m:\u001b[0m\u001b[0;34m\u001b[0m\u001b[0;34m\u001b[0m\u001b[0m\n\u001b[1;32m     16\u001b[0m     \u001b[0;31m# If a restaurant has no reviews use uniform distribution\u001b[0m\u001b[0;34m\u001b[0m\u001b[0;34m\u001b[0m\u001b[0;34m\u001b[0m\u001b[0m\n\u001b[0;32m---> 17\u001b[0;31m     \u001b[0mr\u001b[0m\u001b[0;34m.\u001b[0m\u001b[0mappend\u001b[0m\u001b[0;34m(\u001b[0m\u001b[0;34m(\u001b[0m\u001b[0mnp\u001b[0m\u001b[0;34m.\u001b[0m\u001b[0mones\u001b[0m\u001b[0;34m(\u001b[0m\u001b[0mnum_topics\u001b[0m\u001b[0;34m)\u001b[0m\u001b[0;34m/\u001b[0m\u001b[0mnum_topics\u001b[0m\u001b[0;34m)\u001b[0m\u001b[0;34m.\u001b[0m\u001b[0mto_list\u001b[0m\u001b[0;34m(\u001b[0m\u001b[0;34m)\u001b[0m\u001b[0;34m)\u001b[0m\u001b[0;34m\u001b[0m\u001b[0;34m\u001b[0m\u001b[0m\n\u001b[0m\u001b[1;32m     18\u001b[0m   \u001b[0;32melse\u001b[0m\u001b[0;34m:\u001b[0m\u001b[0;34m\u001b[0m\u001b[0;34m\u001b[0m\u001b[0m\n\u001b[1;32m     19\u001b[0m     \u001b[0;31m# Average topic scores\u001b[0m\u001b[0;34m\u001b[0m\u001b[0;34m\u001b[0m\u001b[0;34m\u001b[0m\u001b[0m\n",
            "\u001b[0;31mAttributeError\u001b[0m: 'numpy.ndarray' object has no attribute 'to_list'"
          ]
        }
      ]
    },
    {
      "cell_type": "code",
      "metadata": {
        "colab": {
          "base_uri": "https://localhost:8080/"
        },
        "id": "oufcK1ip1XnD",
        "outputId": "9d66d3fb-a93b-4a26-b4c8-691147887f11"
      },
      "source": [
        "import numpy as np\n",
        "\n",
        "r = []\n",
        "pos = 0\n",
        "for restaurant in data:\n",
        "  avg = np.zeros(num_topics)\n",
        "  i = 0\n",
        "  for review in restaurant['reviews_data']: # Iterem cada review\n",
        "    j = 0\n",
        "    try:\n",
        "      for elem in weights[pos+i]:\n",
        "        avg[elem[0]] += elem[1]\n",
        "        j += 1\n",
        "    except:\n",
        "      print(pos+i)\n",
        "    i += 1\n",
        "  aux = [elem/i for elem in avg]\n",
        "  aux.insert(0, 0)\n",
        "  r.append(aux)\n",
        "  pos += i"
      ],
      "execution_count": null,
      "outputs": [
        {
          "output_type": "stream",
          "name": "stderr",
          "text": [
            "/usr/local/lib/python3.7/dist-packages/ipykernel_launcher.py:17: RuntimeWarning: invalid value encountered in double_scalars\n"
          ]
        }
      ]
    },
    {
      "cell_type": "markdown",
      "metadata": {
        "id": "EFByw-OKICDq"
      },
      "source": [
        "Save $r$s for later"
      ]
    },
    {
      "cell_type": "code",
      "metadata": {
        "id": "x7o6Y_KiGtHj"
      },
      "source": [
        "with open(\"./r\", \"wb\") as fp:\n",
        "  pickle.dump(r, fp)"
      ],
      "execution_count": null,
      "outputs": []
    },
    {
      "cell_type": "code",
      "metadata": {
        "colab": {
          "base_uri": "https://localhost:8080/"
        },
        "id": "OVPS_bb4xgKp",
        "outputId": "8a268cd4-539c-4a5f-df5a-9b45bf2bfd46"
      },
      "source": [
        "import pickle\n",
        "\n",
        "rs_file = open(\"./r\", 'rb')\n",
        "r = pickle.load(rs_file)\n",
        "print(r[11])"
      ],
      "execution_count": null,
      "outputs": [
        {
          "output_type": "stream",
          "name": "stdout",
          "text": [
            "[0, nan, nan, nan, nan, nan]\n"
          ]
        }
      ]
    },
    {
      "cell_type": "markdown",
      "metadata": {
        "id": "N8rGqGaq4kw0"
      },
      "source": [
        "# Rating Distribution"
      ]
    },
    {
      "cell_type": "code",
      "metadata": {
        "colab": {
          "base_uri": "https://localhost:8080/",
          "height": 265
        },
        "id": "TubcP3iD5zuq",
        "outputId": "b8a8475c-cf3a-4a22-a861-ba6ee178e9bf"
      },
      "source": [
        "ratings = []\n",
        "for restaurant in data:\n",
        "    ratings.append(restaurant['rating'])\n",
        "\n",
        "plt.hist(ratings, bins=np.arange(2,5,0.1))\n",
        "plt.show()"
      ],
      "execution_count": null,
      "outputs": [
        {
          "output_type": "display_data",
          "data": {
            "image/png": "[encoded data removed]",
            "text/plain": [
              "<Figure size 432x288 with 1 Axes>"
            ]
          },
          "metadata": {
            "needs_background": "light"
          }
        }
      ]
    },
    {
      "cell_type": "markdown",
      "metadata": {
        "id": "y65o9CMyBeeG"
      },
      "source": [
        "### Loss function"
      ]
    },
    {
      "cell_type": "code",
      "metadata": {
        "colab": {
          "base_uri": "https://localhost:8080/",
          "height": 467
        },
        "id": "sgd0xWQHBrCb",
        "outputId": "c847dfbb-452c-46cb-a064-86778ae298c5"
      },
      "source": [
        "print(\"Mean:\")\n",
        "print(np.mean(ratings))\n",
        "print(\"Std:\")\n",
        "print(np.std(ratings))\n",
        "plt.hist(ratings, bins=np.arange(2,5,0.1))"
      ],
      "execution_count": null,
      "outputs": [
        {
          "name": "stdout",
          "output_type": "stream",
          "text": [
            "Mean:\n",
            "4.315\n",
            "Std:\n",
            "0.28238567008024096\n"
          ]
        },
        {
          "data": {
            "text/plain": [
              "(array([ 0.,  1.,  0.,  0.,  0.,  0.,  0.,  0.,  0.,  0.,  1.,  0.,  1.,\n",
              "         0.,  0.,  1.,  0.,  5., 13., 18., 32., 42., 35., 56., 39., 36.,\n",
              "        10.,  9.,  1.]),\n",
              " array([2. , 2.1, 2.2, 2.3, 2.4, 2.5, 2.6, 2.7, 2.8, 2.9, 3. , 3.1, 3.2,\n",
              "        3.3, 3.4, 3.5, 3.6, 3.7, 3.8, 3.9, 4. , 4.1, 4.2, 4.3, 4.4, 4.5,\n",
              "        4.6, 4.7, 4.8, 4.9]),\n",
              " <a list of 29 Patch objects>)"
            ]
          },
          "execution_count": 167,
          "metadata": {},
          "output_type": "execute_result"
        },
        {
          "data": {
            "image/png": "[encoded data removed]",
            "text/plain": [
              "<Figure size 432x288 with 1 Axes>"
            ]
          },
          "metadata": {},
          "output_type": "display_data"
        }
      ]
    },
    {
      "cell_type": "markdown",
      "metadata": {
        "id": "03ddlxhxlMj7"
      },
      "source": [
        "## Scores calculation and update"
      ]
    },
    {
      "cell_type": "code",
      "metadata": {
        "colab": {
          "base_uri": "https://localhost:8080/",
          "height": 263
        },
        "id": "ZZSjg__qwkfr",
        "outputId": "53ca9e5b-8b2f-4c75-b4fb-77b7d728eb57"
      },
      "source": [
        "print(\"Mean:\")\n",
        "print(np.mean(ratings))\n",
        "print(\"Std:\")\n",
        "print(np.std(ratings))\n",
        "plt.hist(ratings, bins=np.arange(2,5,0.1))"
      ],
      "execution_count": null,
      "outputs": [
        {
          "output_type": "stream",
          "name": "stdout",
          "text": [
            "Mean:\n"
          ]
        },
        {
          "output_type": "error",
          "ename": "NameError",
          "evalue": "ignored",
          "traceback": [
            "\u001b[0;31m---------------------------------------------------------------------------\u001b[0m",
            "\u001b[0;31mNameError\u001b[0m                                 Traceback (most recent call last)",
            "\u001b[0;32m<ipython-input-17-af7646dff5b7>\u001b[0m in \u001b[0;36m<module>\u001b[0;34m()\u001b[0m\n\u001b[1;32m      1\u001b[0m \u001b[0mprint\u001b[0m\u001b[0;34m(\u001b[0m\u001b[0;34m\"Mean:\"\u001b[0m\u001b[0;34m)\u001b[0m\u001b[0;34m\u001b[0m\u001b[0;34m\u001b[0m\u001b[0m\n\u001b[0;32m----> 2\u001b[0;31m \u001b[0mprint\u001b[0m\u001b[0;34m(\u001b[0m\u001b[0mnp\u001b[0m\u001b[0;34m.\u001b[0m\u001b[0mmean\u001b[0m\u001b[0;34m(\u001b[0m\u001b[0mratings\u001b[0m\u001b[0;34m)\u001b[0m\u001b[0;34m)\u001b[0m\u001b[0;34m\u001b[0m\u001b[0;34m\u001b[0m\u001b[0m\n\u001b[0m\u001b[1;32m      3\u001b[0m \u001b[0mprint\u001b[0m\u001b[0;34m(\u001b[0m\u001b[0;34m\"Std:\"\u001b[0m\u001b[0;34m)\u001b[0m\u001b[0;34m\u001b[0m\u001b[0;34m\u001b[0m\u001b[0m\n\u001b[1;32m      4\u001b[0m \u001b[0mprint\u001b[0m\u001b[0;34m(\u001b[0m\u001b[0mnp\u001b[0m\u001b[0;34m.\u001b[0m\u001b[0mstd\u001b[0m\u001b[0;34m(\u001b[0m\u001b[0mratings\u001b[0m\u001b[0;34m)\u001b[0m\u001b[0;34m)\u001b[0m\u001b[0;34m\u001b[0m\u001b[0;34m\u001b[0m\u001b[0m\n\u001b[1;32m      5\u001b[0m \u001b[0mplt\u001b[0m\u001b[0;34m.\u001b[0m\u001b[0mhist\u001b[0m\u001b[0;34m(\u001b[0m\u001b[0mratings\u001b[0m\u001b[0;34m,\u001b[0m \u001b[0mbins\u001b[0m\u001b[0;34m=\u001b[0m\u001b[0mnp\u001b[0m\u001b[0;34m.\u001b[0m\u001b[0marange\u001b[0m\u001b[0;34m(\u001b[0m\u001b[0;36m2\u001b[0m\u001b[0;34m,\u001b[0m\u001b[0;36m5\u001b[0m\u001b[0;34m,\u001b[0m\u001b[0;36m0.1\u001b[0m\u001b[0;34m)\u001b[0m\u001b[0;34m)\u001b[0m\u001b[0;34m\u001b[0m\u001b[0;34m\u001b[0m\u001b[0m\n",
            "\u001b[0;31mNameError\u001b[0m: name 'ratings' is not defined"
          ]
        }
      ]
    },
    {
      "cell_type": "markdown",
      "metadata": {
        "id": "j61payNfR_dK"
      },
      "source": [
        "We will now define a score function for each restaurant depending on the user and the restaurant. The restaurant will have certain paramethers, one corresponding to the distance and the other ones extracted from the LDA process above. The user will have a paramether related to each one of the paramethers of the restaurant indicating how important is that restaurant paramether to the user.\n",
        "\n",
        "$f(\\alpha, \\boldsymbol{u}, \\boldsymbol{r}) = F_{\\mu, \\sigma}(\\alpha)\\langle \\boldsymbol{u}, \\boldsymbol{r}\\rangle$\n",
        "\n",
        "Where $\\alpha \\in [0, 5]$ is the rating of the restaurant (5-star system); $F_{\\mu, \\sigma}$ is the c.d.f. of a normal distribution with mean $\\mu$ and standard deviation $\\sigma$; $\\mu$ is the mean of the ratings and $\\sigma$ its standard deviation (in our dataset, $\\mu = 4.315, \\sigma=0.2824$)$; \\boldsymbol{u} = (u_1, ..., u_n)$ is the vector of parameters of the user and $\\boldsymbol{r} = (\\frac{1}{1+d(u_{coord}, r_{coord})}, r_2, ..., r_n)$ is the vector of paramethers of the restaurant.\n",
        "\n",
        "We use the c.d.f. of the normal distribution to linealize the ratings of the restaurants. Then, with the scalar product we can set how much importance the user gives to each paramether of the restaurant. Finally, the first paramether of $\\boldsymbol{r}$ corresponds to the inverse of the distance between the user and the restaurant since the closest the user is to the restaurant, the higher the score (we add +1 for domain purposes).\n",
        "\n",
        "\n",
        "We also define an update function on the user preferences to latter apply reinforcement learning:\n",
        "$\\boldsymbol{u}^{(i+1)} = \\frac{\\boldsymbol{u}^{(i)}}{\\beta} + (2F_{\\mu, \\sigma}(\\alpha) - 1)\\boldsymbol{r}$\n",
        "\n",
        "Here, $\\beta$ is a decay parameter on the importance of past preferences of the user, if it is too big past preferences will have no importance, that is why (also by trial and error), we chose $\\beta = 1.2$; $\\alpha$ is different from the score function, here $\\alpha \\in [0, 5]$ but corresponds to a 5-star rating system of the recommendation we give; and finally $\\boldsymbol{r}$ is the vector of paramethers of the recommended restaurant.\n"
      ]
    },
    {
      "cell_type": "code",
      "metadata": {
        "id": "1_WtMXUkR-Vw"
      },
      "source": [
        "  "
      ],
      "execution_count": null,
      "outputs": []
    },
    {
      "cell_type": "code",
      "metadata": {
        "colab": {
          "base_uri": "https://localhost:8080/"
        },
        "id": "pxBkPOP0wmmQ",
        "outputId": "8bf31b41-e689-4e8a-937f-5e88d7767c3f"
      },
      "source": [
        "from scipy.stats import norm\n",
        "!pip install haversine\n",
        "from haversine import haversine\n",
        "import math"
      ],
      "execution_count": null,
      "outputs": [
        {
          "output_type": "stream",
          "name": "stdout",
          "text": [
            "Requirement already satisfied: haversine in /usr/local/lib/python3.7/dist-packages (2.5.1)\n"
          ]
        }
      ]
    },
    {
      "cell_type": "code",
      "metadata": {
        "id": "TUMdTNIuwvbV"
      },
      "source": [
        "def fun_score(rating, r_pos, u_pos, r, u):\n",
        "  '''rating belongs to [1, 5], r_pos is a 2-sized tuple, u_pos is a 2-sized tuple, r is the vector of paramethers of the restaurant, u is the vector of paramethers of the user'''\n",
        "\n",
        "  # The rating (5-star sistem) distribution is normal. We linealize the rating:\n",
        "  rating_score = norm.cdf(rating, loc=np.mean(ratings), scale=np.std(ratings))\n",
        "\n",
        "  # We want distance to be inversly proportional to restaurant score\n",
        "  r[0] = 1/(1+haversine(r_pos, u_pos, unit='km'))\n",
        "  r = r / np.sqrt(np.sum(r**2))\n",
        "\n",
        "  return rating_score*(np.dot(u, r))\n",
        "\n",
        "def update_u(u, beta, recom_rating, r):\n",
        "  '''u is the vector of paramethers of the user, beta is a real higher than 1, recom_rating belongs to [1, 5], r is the vector of paramethers of the restaurant chosen'''\n",
        "\n",
        "  # We apply a decay to past preferences and we linealize and normalize into the [-1, 1] interval the recommendation rating\n",
        "  r = r / np.sqrt(np.sum(r**2))\n",
        "  u = (1/beta)*np.asanyarray(u) + (2*norm.cdf(recom_rating, loc=np.mean(ratings), scale=np.std(ratings)) - 1)*np.asarray(r)\n",
        "\n",
        "  return u / np.sqrt(np.sum(u**2))"
      ],
      "execution_count": null,
      "outputs": []
    },
    {
      "cell_type": "code",
      "metadata": {
        "colab": {
          "base_uri": "https://localhost:8080/"
        },
        "id": "boSfNMwiw2Bg",
        "outputId": "ab020009-aa2e-4309-d58a-cca3342c5e01"
      },
      "source": [
        "def filter(price, mode, type_rest, max_dist, u_pos):\n",
        "  '''This function filter all the restaurants by the following parameters:\n",
        "  price is a vector belonging to the powerset of ['$', '$$', '$$$', '$$$$'], \n",
        "  mode is a 3-sized tuple of booleans corresponding to if the restaurant has (dine-in, takeout, delivery), \n",
        "  type_rest is a vector belonging to the powerset of the vector of diferent types of restaurants, \n",
        "  max_dist is the maximum distance the user is willing to move (in km) and \n",
        "  u_pos is the location of the user (2-sized tuple containing latitude and longitude)'''\n",
        "  restaurants = []\n",
        "  for restaurant in data:\n",
        "    try:\n",
        "      dist = haversine((restaurant['gps_coordinates']['latitude'], restaurant['gps_coordinates']['longitude']), u_pos, unit='km')\n",
        "      if restaurant['price'] in price and restaurant['type'] in type_rest and max_dist > dist and (mode[0]*restaurant['service_options']['dine_in'] or mode[1]*restaurant['service_options']['takeout'] or mode[2]*restaurant['service_options']['delivery']):\n",
        "        restaurants.append(restaurant)\n",
        "    except:\n",
        "      pass\n",
        "  return restaurants\n",
        "\n",
        "u_pos = (41.3858942, 2.1707583)\n",
        "mode = [0, 1, 1]\n",
        "S = filter(['$', '$$', '$$$'], mode, [restaurant['type'] for restaurant in data], 10, u_pos)"
      ],
      "execution_count": null,
      "outputs": [
        {
          "output_type": "stream",
          "name": "stdout",
          "text": [
            "149\n"
          ]
        }
      ]
    },
    {
      "cell_type": "markdown",
      "metadata": {
        "id": "7jxJ2k2VT7UD"
      },
      "source": [
        "The idea will be to apply the score funtion to all the restaurants that passed the filter, choose the top 15% and then choose five of them following a certain distribution of probability. Each restaurant will have a probability of: $\\frac{(\\hat{f}(\\alpha, \\boldsymbol{u}, \\boldsymbol{r}))^2}{\\sum_{\\forall \\boldsymbol{r} \\in \\boldsymbol{R}}{(\\hat{f}(\\alpha, \\boldsymbol{u}, \\boldsymbol{r}))^2}}$.\n",
        "\n",
        "Finally, the user will choose a restaurant from these 5 recommendations and give us a review (5-star system) on our recommendation. Based on this review, we will update $\\boldsymbol{u}$."
      ]
    },
    {
      "cell_type": "code",
      "metadata": {
        "colab": {
          "base_uri": "https://localhost:8080/"
        },
        "id": "fR_HX7F-0LIF",
        "outputId": "482801dd-9663-4d5b-fcce-70341c466a9d"
      },
      "source": [
        "r[11]"
      ],
      "execution_count": null,
      "outputs": [
        {
          "output_type": "execute_result",
          "data": {
            "text/plain": [
              "[0.6001186025618187, 0.2, 0.2, 0.2, 0.2, 0.2]"
            ]
          },
          "metadata": {},
          "execution_count": 90
        }
      ]
    },
    {
      "cell_type": "code",
      "metadata": {
        "colab": {
          "base_uri": "https://localhost:8080/",
          "height": 245
        },
        "id": "Xk4wq2msyDzp",
        "outputId": "84e39e66-5606-495e-dcbf-d33d197bcd6b"
      },
      "source": [
        "id_to_r = dict(zip([restaurant['place_id'] for restaurant in S], r))\n",
        "\n",
        "# We get NaN in the 11th restaurant's paramethers, so we inpute them\n",
        "r[11][1] = 0.2\n",
        "r[11][2] = 0.2\n",
        "r[11][3] = 0.2\n",
        "r[11][4] = 0.2\n",
        "r[11][5] = 0.2\n",
        "\n",
        "# We initialize the user preferences on the restaurant paramethers. At first we consider the distance to the restaurant as the only importat paramether.\n",
        "u = [1, 0, 0, 0, 0, 0]\n",
        "\n",
        "def recommendation_step():\n",
        "  global u\n",
        "  # We apply the score function to all restaurants\n",
        "  valued_restaurants_u = [(restaurant['place_id'], fun_score(restaurant['rating'], (restaurant['gps_coordinates']['latitude'], restaurant['gps_coordinates']['longitude']), u_pos, id_to_r[restaurant['place_id']], u)) for restaurant in S]\n",
        "  # We sort all restaurants by score (descending)\n",
        "  valued_restaurants_u.sort(key=lambda x: x[1], reverse=True)\n",
        "  # We take the top 15% of restaurants (or 10 of them if the 15% is less than 10, or all of them if they are less than 10)\n",
        "  chosen_restaurants = valued_restaurants_u[0:max(int(0.15*len(valued_restaurants_u)), min(10, len(valued_restaurants_u)))]\n",
        "  # We define our probalibity distribution for the random choice as score^2/sum(scores^2). We use squared to reduce a little bit the randomness\n",
        "  chosen_restaurants_distribution = []\n",
        "  sum_p2 = 0\n",
        "  for restaurant in chosen_restaurants:\n",
        "    # We map the score from [-1, 1] to [0, 1]\n",
        "    aux = (restaurant[1] + 1) / 2\n",
        "    sum_p2 += aux**2\n",
        "    chosen_restaurants_distribution.append(aux**2)\n",
        "  for i in range(len(chosen_restaurants_distribution)):\n",
        "    chosen_restaurants_distribution[i] = chosen_restaurants_distribution[i] * (1 / sum_p2)\n",
        "  if len(chosen_restaurants) < 5:\n",
        "    print(\"No hi ha suficients restaurants a recomanar\")\n",
        "  # We select 5 restaurants from the top restaurants using the probability distribution defined\n",
        "  suggestion = np.random.choice(len(chosen_restaurants), size=5, replace=False, p=chosen_restaurants_distribution)\n",
        "  suggestion = [chosen_restaurants[index] for index in suggestion]\n",
        "  print(suggestion)\n",
        "  \n",
        "  restaurant_selected = int(input('Select restaurant from 1 to 5:'))\n",
        "  recomendation_score = float(input('Please, give us a valuation (1 to 5 stars) on the recomendation:'))\n",
        "  print(u)\n",
        "  u = update_u(u, 1.2, recomendation_score, id_to_r[chosen_restaurants[restaurant_selected - 1][0]])\n",
        "  print(u)\n",
        "\n",
        "recommendation_step()"
      ],
      "execution_count": null,
      "outputs": [
        {
          "output_type": "error",
          "ename": "NameError",
          "evalue": "ignored",
          "traceback": [
            "\u001b[0;31m---------------------------------------------------------------------------\u001b[0m",
            "\u001b[0;31mNameError\u001b[0m                                 Traceback (most recent call last)",
            "\u001b[0;32m<ipython-input-18-2d446bfa056b>\u001b[0m in \u001b[0;36m<module>\u001b[0;34m()\u001b[0m\n\u001b[0;32m----> 1\u001b[0;31m \u001b[0mid_to_r\u001b[0m \u001b[0;34m=\u001b[0m \u001b[0mdict\u001b[0m\u001b[0;34m(\u001b[0m\u001b[0mzip\u001b[0m\u001b[0;34m(\u001b[0m\u001b[0;34m[\u001b[0m\u001b[0mrestaurant\u001b[0m\u001b[0;34m[\u001b[0m\u001b[0;34m'place_id'\u001b[0m\u001b[0;34m]\u001b[0m \u001b[0;32mfor\u001b[0m \u001b[0mrestaurant\u001b[0m \u001b[0;32min\u001b[0m \u001b[0mS\u001b[0m\u001b[0;34m]\u001b[0m\u001b[0;34m,\u001b[0m \u001b[0mr\u001b[0m\u001b[0;34m)\u001b[0m\u001b[0;34m)\u001b[0m\u001b[0;34m\u001b[0m\u001b[0;34m\u001b[0m\u001b[0m\n\u001b[0m\u001b[1;32m      2\u001b[0m \u001b[0;34m\u001b[0m\u001b[0m\n\u001b[1;32m      3\u001b[0m \u001b[0;31m# We get NaN in the 11th restaurant's paramethers, so we inpute them\u001b[0m\u001b[0;34m\u001b[0m\u001b[0;34m\u001b[0m\u001b[0;34m\u001b[0m\u001b[0m\n\u001b[1;32m      4\u001b[0m \u001b[0mr\u001b[0m\u001b[0;34m[\u001b[0m\u001b[0;36m11\u001b[0m\u001b[0;34m]\u001b[0m\u001b[0;34m[\u001b[0m\u001b[0;36m1\u001b[0m\u001b[0;34m]\u001b[0m \u001b[0;34m=\u001b[0m \u001b[0;36m0.2\u001b[0m\u001b[0;34m\u001b[0m\u001b[0;34m\u001b[0m\u001b[0m\n\u001b[1;32m      5\u001b[0m \u001b[0mr\u001b[0m\u001b[0;34m[\u001b[0m\u001b[0;36m11\u001b[0m\u001b[0;34m]\u001b[0m\u001b[0;34m[\u001b[0m\u001b[0;36m2\u001b[0m\u001b[0;34m]\u001b[0m \u001b[0;34m=\u001b[0m \u001b[0;36m0.2\u001b[0m\u001b[0;34m\u001b[0m\u001b[0;34m\u001b[0m\u001b[0m\n",
            "\u001b[0;31mNameError\u001b[0m: name 'S' is not defined"
          ]
        }
      ]
    },
    {
      "cell_type": "code",
      "metadata": {
        "id": "q8-37Y7tUOB1"
      },
      "source": [
        "recommendation_step()\n",
        "recommendation_step()\n",
        "recommendation_step()\n",
        "recommendation_step()"
      ],
      "execution_count": null,
      "outputs": []
    }
  ]
}